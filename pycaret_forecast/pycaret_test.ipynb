{
 "metadata": {
  "language_info": {
   "codemirror_mode": {
    "name": "ipython",
    "version": 3
   },
   "file_extension": ".py",
   "mimetype": "text/x-python",
   "name": "python",
   "nbconvert_exporter": "python",
   "pygments_lexer": "ipython3",
   "version": "3.8.8-final"
  },
  "orig_nbformat": 2,
  "kernelspec": {
   "name": "python3",
   "display_name": "Python 3.8.8 64-bit ('venv')",
   "metadata": {
    "interpreter": {
     "hash": "0bd3c137db0ad6f150572af135d32e9c7ca80234a5f4368600668cb8b6eecf93"
    }
   }
  }
 },
 "nbformat": 4,
 "nbformat_minor": 2,
 "cells": [
  {
   "source": [
    "Example workflow using pycaret"
   ],
   "cell_type": "markdown",
   "metadata": {}
  },
  {
   "cell_type": "code",
   "execution_count": 10,
   "metadata": {},
   "outputs": [
    {
     "output_type": "error",
     "ename": "ModuleNotFoundError",
     "evalue": "No module named 'weather_scrape'",
     "traceback": [
      "\u001b[1;31m---------------------------------------------------------------------------\u001b[0m",
      "\u001b[1;31mModuleNotFoundError\u001b[0m                       Traceback (most recent call last)",
      "\u001b[1;32m<ipython-input-10-1650cc58e72f>\u001b[0m in \u001b[0;36m<module>\u001b[1;34m\u001b[0m\n\u001b[0;32m      1\u001b[0m \u001b[1;32mimport\u001b[0m \u001b[0mpandas\u001b[0m \u001b[1;32mas\u001b[0m \u001b[0mpd\u001b[0m\u001b[1;33m\u001b[0m\u001b[1;33m\u001b[0m\u001b[0m\n\u001b[1;32m----> 2\u001b[1;33m \u001b[1;32mfrom\u001b[0m \u001b[0mweather_scrape\u001b[0m \u001b[1;32mimport\u001b[0m \u001b[1;33m*\u001b[0m\u001b[1;33m\u001b[0m\u001b[1;33m\u001b[0m\u001b[0m\n\u001b[0m\u001b[0;32m      3\u001b[0m \u001b[1;32mfrom\u001b[0m \u001b[0melectricity_scrape\u001b[0m \u001b[1;32mimport\u001b[0m \u001b[1;33m*\u001b[0m\u001b[1;33m\u001b[0m\u001b[1;33m\u001b[0m\u001b[0m\n",
      "\u001b[1;31mModuleNotFoundError\u001b[0m: No module named 'weather_scrape'"
     ]
    }
   ],
   "source": [
    "import pandas as pd\n",
    "from .pycaret_model.weather_scrape import *\n",
    "from electricity_scrape import *"
   ]
  },
  {
   "cell_type": "code",
   "execution_count": null,
   "metadata": {},
   "outputs": [],
   "source": [
    "#aeso tables that can currently be scraped by function\n",
    "dl_tables = ['DdsChargeSummary', 'HistoricalPoolPrice', 'ASPStandbyOperatingReservePrice',\n",
    "             'ASPActivation', 'ASPActiveOperatingReservePrice', 'ActualForecastWMRQH', \n",
    "             'DailyAveragePoolPrice', 'HistoricalSystemMarginalPrice', 'RegulatingReserves']"
   ]
  },
  {
   "cell_type": "code",
   "execution_count": null,
   "metadata": {},
   "outputs": [],
   "source": [
    "#input parameters\n",
    "#aeso inputs\n",
    "startdate = '2021-03-01'\n",
    "enddate = '2021-03-30'\n",
    "dateformat = '%Y-%m-%d'\n",
    "contenttype = 'html'\n",
    "#additional weather inputs city and timeframe 1 = hourly, 2 = daily\n",
    "city = 'yyc'"
   ]
  },
  {
   "cell_type": "code",
   "execution_count": null,
   "metadata": {},
   "outputs": [],
   "source": [
    "#scrape all available tables for defined time range\n",
    "for t in dl_tables:\n",
    "    #dataframe name is prefixed with \"aeso_\"\n",
    "    df_name = 'aeso_'+t\n",
    "    exec(df_name +\" = aeso_download_range('\" + t + \"', contenttype, startdate, enddate, dateformat)\")"
   ]
  },
  {
   "cell_type": "code",
   "execution_count": null,
   "metadata": {},
   "outputs": [],
   "source": [
    "#scrape hourly weather data for defined timeframe\n",
    "weather_hourly = weather_dl_range(startdate, enddate, dateformat, city, 1, clean=True)\n",
    "#scrape daily weather data for defined timeframe\n",
    "weather_daily = weather_dl_range(startdate, enddate, dateformat, city, 2, clean=True)"
   ]
  },
  {
   "cell_type": "code",
   "execution_count": null,
   "metadata": {},
   "outputs": [],
   "source": [
    "#check the downloaded aeso table\n",
    "for t in dl_tables:\n",
    "    #dataframe name is prefixed with \"aeso_\"\n",
    "    df_name = 'aeso_'+t\n",
    "    print('Dataframe Name: '+df_name)\n",
    "    exec(\"print(\" + df_name + \".head())\")"
   ]
  },
  {
   "cell_type": "code",
   "execution_count": null,
   "metadata": {},
   "outputs": [],
   "source": [
    "weather_hourly.head()"
   ]
  },
  {
   "cell_type": "code",
   "execution_count": 11,
   "metadata": {},
   "outputs": [
    {
     "output_type": "display_data",
     "data": {
      "text/plain": "   Carat Weight    Cut Color Clarity Polish Symmetry Report  Price\n0          1.10  Ideal     H     SI1     VG       EX    GIA   5169\n1          0.83  Ideal     H     VS1     ID       ID   AGSL   3470\n2          0.85  Ideal     H     SI1     EX       EX    GIA   3183\n3          0.91  Ideal     E     SI1     VG       VG    GIA   4370\n4          0.83  Ideal     G     SI1     EX       EX    GIA   3171",
      "text/html": "<div>\n<style scoped>\n    .dataframe tbody tr th:only-of-type {\n        vertical-align: middle;\n    }\n\n    .dataframe tbody tr th {\n        vertical-align: top;\n    }\n\n    .dataframe thead th {\n        text-align: right;\n    }\n</style>\n<table border=\"1\" class=\"dataframe\">\n  <thead>\n    <tr style=\"text-align: right;\">\n      <th></th>\n      <th>Carat Weight</th>\n      <th>Cut</th>\n      <th>Color</th>\n      <th>Clarity</th>\n      <th>Polish</th>\n      <th>Symmetry</th>\n      <th>Report</th>\n      <th>Price</th>\n    </tr>\n  </thead>\n  <tbody>\n    <tr>\n      <th>0</th>\n      <td>1.10</td>\n      <td>Ideal</td>\n      <td>H</td>\n      <td>SI1</td>\n      <td>VG</td>\n      <td>EX</td>\n      <td>GIA</td>\n      <td>5169</td>\n    </tr>\n    <tr>\n      <th>1</th>\n      <td>0.83</td>\n      <td>Ideal</td>\n      <td>H</td>\n      <td>VS1</td>\n      <td>ID</td>\n      <td>ID</td>\n      <td>AGSL</td>\n      <td>3470</td>\n    </tr>\n    <tr>\n      <th>2</th>\n      <td>0.85</td>\n      <td>Ideal</td>\n      <td>H</td>\n      <td>SI1</td>\n      <td>EX</td>\n      <td>EX</td>\n      <td>GIA</td>\n      <td>3183</td>\n    </tr>\n    <tr>\n      <th>3</th>\n      <td>0.91</td>\n      <td>Ideal</td>\n      <td>E</td>\n      <td>SI1</td>\n      <td>VG</td>\n      <td>VG</td>\n      <td>GIA</td>\n      <td>4370</td>\n    </tr>\n    <tr>\n      <th>4</th>\n      <td>0.83</td>\n      <td>Ideal</td>\n      <td>G</td>\n      <td>SI1</td>\n      <td>EX</td>\n      <td>EX</td>\n      <td>GIA</td>\n      <td>3171</td>\n    </tr>\n  </tbody>\n</table>\n</div>"
     },
     "metadata": {}
    }
   ],
   "source": [
    "\n",
    "from pycaret.datasets import get_data\n",
    "dataset = get_data('diamond')"
   ]
  },
  {
   "cell_type": "code",
   "execution_count": 12,
   "metadata": {},
   "outputs": [
    {
     "output_type": "execute_result",
     "data": {
      "text/plain": [
       "(6000, 8)"
      ]
     },
     "metadata": {},
     "execution_count": 12
    }
   ],
   "source": [
    "#check the shape of data\n",
    "dataset.shape"
   ]
  },
  {
   "cell_type": "code",
   "execution_count": 13,
   "metadata": {},
   "outputs": [
    {
     "output_type": "stream",
     "name": "stdout",
     "text": [
      "Data for Modeling: (5400, 8)\nUnseen Data For Predictions: (600, 8)\n"
     ]
    }
   ],
   "source": [
    "\n",
    "data = dataset.sample(frac=0.9, random_state=786)\n",
    "data_unseen = dataset.drop(data.index)\n",
    "\n",
    "data.reset_index(drop=True, inplace=True)\n",
    "data_unseen.reset_index(drop=True, inplace=True)\n",
    "\n",
    "print('Data for Modeling: ' + str(data.shape))\n",
    "print('Unseen Data For Predictions: ' + str(data_unseen.shape))"
   ]
  },
  {
   "cell_type": "code",
   "execution_count": 14,
   "metadata": {},
   "outputs": [
    {
     "output_type": "display_data",
     "data": {
      "text/plain": "<pandas.io.formats.style.Styler at 0x25d83193d90>",
      "text/html": "<style  type=\"text/css\" >\n#T_10a48_row27_col1{\n            background-color:  lightgreen;\n        }</style><table id=\"T_10a48_\" ><thead>    <tr>        <th class=\"blank level0\" ></th>        <th class=\"col_heading level0 col0\" >Description</th>        <th class=\"col_heading level0 col1\" >Value</th>    </tr></thead><tbody>\n                <tr>\n                        <th id=\"T_10a48_level0_row0\" class=\"row_heading level0 row0\" >0</th>\n                        <td id=\"T_10a48_row0_col0\" class=\"data row0 col0\" >session_id</td>\n                        <td id=\"T_10a48_row0_col1\" class=\"data row0 col1\" >123</td>\n            </tr>\n            <tr>\n                        <th id=\"T_10a48_level0_row1\" class=\"row_heading level0 row1\" >1</th>\n                        <td id=\"T_10a48_row1_col0\" class=\"data row1 col0\" >Target</td>\n                        <td id=\"T_10a48_row1_col1\" class=\"data row1 col1\" >Price</td>\n            </tr>\n            <tr>\n                        <th id=\"T_10a48_level0_row2\" class=\"row_heading level0 row2\" >2</th>\n                        <td id=\"T_10a48_row2_col0\" class=\"data row2 col0\" >Original Data</td>\n                        <td id=\"T_10a48_row2_col1\" class=\"data row2 col1\" >(5400, 8)</td>\n            </tr>\n            <tr>\n                        <th id=\"T_10a48_level0_row3\" class=\"row_heading level0 row3\" >3</th>\n                        <td id=\"T_10a48_row3_col0\" class=\"data row3 col0\" >Missing Values</td>\n                        <td id=\"T_10a48_row3_col1\" class=\"data row3 col1\" >False</td>\n            </tr>\n            <tr>\n                        <th id=\"T_10a48_level0_row4\" class=\"row_heading level0 row4\" >4</th>\n                        <td id=\"T_10a48_row4_col0\" class=\"data row4 col0\" >Numeric Features</td>\n                        <td id=\"T_10a48_row4_col1\" class=\"data row4 col1\" >1</td>\n            </tr>\n            <tr>\n                        <th id=\"T_10a48_level0_row5\" class=\"row_heading level0 row5\" >5</th>\n                        <td id=\"T_10a48_row5_col0\" class=\"data row5 col0\" >Categorical Features</td>\n                        <td id=\"T_10a48_row5_col1\" class=\"data row5 col1\" >6</td>\n            </tr>\n            <tr>\n                        <th id=\"T_10a48_level0_row6\" class=\"row_heading level0 row6\" >6</th>\n                        <td id=\"T_10a48_row6_col0\" class=\"data row6 col0\" >Ordinal Features</td>\n                        <td id=\"T_10a48_row6_col1\" class=\"data row6 col1\" >False</td>\n            </tr>\n            <tr>\n                        <th id=\"T_10a48_level0_row7\" class=\"row_heading level0 row7\" >7</th>\n                        <td id=\"T_10a48_row7_col0\" class=\"data row7 col0\" >High Cardinality Features</td>\n                        <td id=\"T_10a48_row7_col1\" class=\"data row7 col1\" >False</td>\n            </tr>\n            <tr>\n                        <th id=\"T_10a48_level0_row8\" class=\"row_heading level0 row8\" >8</th>\n                        <td id=\"T_10a48_row8_col0\" class=\"data row8 col0\" >High Cardinality Method</td>\n                        <td id=\"T_10a48_row8_col1\" class=\"data row8 col1\" >None</td>\n            </tr>\n            <tr>\n                        <th id=\"T_10a48_level0_row9\" class=\"row_heading level0 row9\" >9</th>\n                        <td id=\"T_10a48_row9_col0\" class=\"data row9 col0\" >Transformed Train Set</td>\n                        <td id=\"T_10a48_row9_col1\" class=\"data row9 col1\" >(3779, 28)</td>\n            </tr>\n            <tr>\n                        <th id=\"T_10a48_level0_row10\" class=\"row_heading level0 row10\" >10</th>\n                        <td id=\"T_10a48_row10_col0\" class=\"data row10 col0\" >Transformed Test Set</td>\n                        <td id=\"T_10a48_row10_col1\" class=\"data row10 col1\" >(1621, 28)</td>\n            </tr>\n            <tr>\n                        <th id=\"T_10a48_level0_row11\" class=\"row_heading level0 row11\" >11</th>\n                        <td id=\"T_10a48_row11_col0\" class=\"data row11 col0\" >Shuffle Train-Test</td>\n                        <td id=\"T_10a48_row11_col1\" class=\"data row11 col1\" >True</td>\n            </tr>\n            <tr>\n                        <th id=\"T_10a48_level0_row12\" class=\"row_heading level0 row12\" >12</th>\n                        <td id=\"T_10a48_row12_col0\" class=\"data row12 col0\" >Stratify Train-Test</td>\n                        <td id=\"T_10a48_row12_col1\" class=\"data row12 col1\" >False</td>\n            </tr>\n            <tr>\n                        <th id=\"T_10a48_level0_row13\" class=\"row_heading level0 row13\" >13</th>\n                        <td id=\"T_10a48_row13_col0\" class=\"data row13 col0\" >Fold Generator</td>\n                        <td id=\"T_10a48_row13_col1\" class=\"data row13 col1\" >KFold</td>\n            </tr>\n            <tr>\n                        <th id=\"T_10a48_level0_row14\" class=\"row_heading level0 row14\" >14</th>\n                        <td id=\"T_10a48_row14_col0\" class=\"data row14 col0\" >Fold Number</td>\n                        <td id=\"T_10a48_row14_col1\" class=\"data row14 col1\" >10</td>\n            </tr>\n            <tr>\n                        <th id=\"T_10a48_level0_row15\" class=\"row_heading level0 row15\" >15</th>\n                        <td id=\"T_10a48_row15_col0\" class=\"data row15 col0\" >CPU Jobs</td>\n                        <td id=\"T_10a48_row15_col1\" class=\"data row15 col1\" >-1</td>\n            </tr>\n            <tr>\n                        <th id=\"T_10a48_level0_row16\" class=\"row_heading level0 row16\" >16</th>\n                        <td id=\"T_10a48_row16_col0\" class=\"data row16 col0\" >Use GPU</td>\n                        <td id=\"T_10a48_row16_col1\" class=\"data row16 col1\" >False</td>\n            </tr>\n            <tr>\n                        <th id=\"T_10a48_level0_row17\" class=\"row_heading level0 row17\" >17</th>\n                        <td id=\"T_10a48_row17_col0\" class=\"data row17 col0\" >Log Experiment</td>\n                        <td id=\"T_10a48_row17_col1\" class=\"data row17 col1\" >False</td>\n            </tr>\n            <tr>\n                        <th id=\"T_10a48_level0_row18\" class=\"row_heading level0 row18\" >18</th>\n                        <td id=\"T_10a48_row18_col0\" class=\"data row18 col0\" >Experiment Name</td>\n                        <td id=\"T_10a48_row18_col1\" class=\"data row18 col1\" >reg-default-name</td>\n            </tr>\n            <tr>\n                        <th id=\"T_10a48_level0_row19\" class=\"row_heading level0 row19\" >19</th>\n                        <td id=\"T_10a48_row19_col0\" class=\"data row19 col0\" >USI</td>\n                        <td id=\"T_10a48_row19_col1\" class=\"data row19 col1\" >881e</td>\n            </tr>\n            <tr>\n                        <th id=\"T_10a48_level0_row20\" class=\"row_heading level0 row20\" >20</th>\n                        <td id=\"T_10a48_row20_col0\" class=\"data row20 col0\" >Imputation Type</td>\n                        <td id=\"T_10a48_row20_col1\" class=\"data row20 col1\" >simple</td>\n            </tr>\n            <tr>\n                        <th id=\"T_10a48_level0_row21\" class=\"row_heading level0 row21\" >21</th>\n                        <td id=\"T_10a48_row21_col0\" class=\"data row21 col0\" >Iterative Imputation Iteration</td>\n                        <td id=\"T_10a48_row21_col1\" class=\"data row21 col1\" >None</td>\n            </tr>\n            <tr>\n                        <th id=\"T_10a48_level0_row22\" class=\"row_heading level0 row22\" >22</th>\n                        <td id=\"T_10a48_row22_col0\" class=\"data row22 col0\" >Numeric Imputer</td>\n                        <td id=\"T_10a48_row22_col1\" class=\"data row22 col1\" >mean</td>\n            </tr>\n            <tr>\n                        <th id=\"T_10a48_level0_row23\" class=\"row_heading level0 row23\" >23</th>\n                        <td id=\"T_10a48_row23_col0\" class=\"data row23 col0\" >Iterative Imputation Numeric Model</td>\n                        <td id=\"T_10a48_row23_col1\" class=\"data row23 col1\" >None</td>\n            </tr>\n            <tr>\n                        <th id=\"T_10a48_level0_row24\" class=\"row_heading level0 row24\" >24</th>\n                        <td id=\"T_10a48_row24_col0\" class=\"data row24 col0\" >Categorical Imputer</td>\n                        <td id=\"T_10a48_row24_col1\" class=\"data row24 col1\" >constant</td>\n            </tr>\n            <tr>\n                        <th id=\"T_10a48_level0_row25\" class=\"row_heading level0 row25\" >25</th>\n                        <td id=\"T_10a48_row25_col0\" class=\"data row25 col0\" >Iterative Imputation Categorical Model</td>\n                        <td id=\"T_10a48_row25_col1\" class=\"data row25 col1\" >None</td>\n            </tr>\n            <tr>\n                        <th id=\"T_10a48_level0_row26\" class=\"row_heading level0 row26\" >26</th>\n                        <td id=\"T_10a48_row26_col0\" class=\"data row26 col0\" >Unknown Categoricals Handling</td>\n                        <td id=\"T_10a48_row26_col1\" class=\"data row26 col1\" >least_frequent</td>\n            </tr>\n            <tr>\n                        <th id=\"T_10a48_level0_row27\" class=\"row_heading level0 row27\" >27</th>\n                        <td id=\"T_10a48_row27_col0\" class=\"data row27 col0\" >Normalize</td>\n                        <td id=\"T_10a48_row27_col1\" class=\"data row27 col1\" >True</td>\n            </tr>\n            <tr>\n                        <th id=\"T_10a48_level0_row28\" class=\"row_heading level0 row28\" >28</th>\n                        <td id=\"T_10a48_row28_col0\" class=\"data row28 col0\" >Normalize Method</td>\n                        <td id=\"T_10a48_row28_col1\" class=\"data row28 col1\" >zscore</td>\n            </tr>\n            <tr>\n                        <th id=\"T_10a48_level0_row29\" class=\"row_heading level0 row29\" >29</th>\n                        <td id=\"T_10a48_row29_col0\" class=\"data row29 col0\" >Transformation</td>\n                        <td id=\"T_10a48_row29_col1\" class=\"data row29 col1\" >False</td>\n            </tr>\n            <tr>\n                        <th id=\"T_10a48_level0_row30\" class=\"row_heading level0 row30\" >30</th>\n                        <td id=\"T_10a48_row30_col0\" class=\"data row30 col0\" >Transformation Method</td>\n                        <td id=\"T_10a48_row30_col1\" class=\"data row30 col1\" >None</td>\n            </tr>\n            <tr>\n                        <th id=\"T_10a48_level0_row31\" class=\"row_heading level0 row31\" >31</th>\n                        <td id=\"T_10a48_row31_col0\" class=\"data row31 col0\" >PCA</td>\n                        <td id=\"T_10a48_row31_col1\" class=\"data row31 col1\" >False</td>\n            </tr>\n            <tr>\n                        <th id=\"T_10a48_level0_row32\" class=\"row_heading level0 row32\" >32</th>\n                        <td id=\"T_10a48_row32_col0\" class=\"data row32 col0\" >PCA Method</td>\n                        <td id=\"T_10a48_row32_col1\" class=\"data row32 col1\" >None</td>\n            </tr>\n            <tr>\n                        <th id=\"T_10a48_level0_row33\" class=\"row_heading level0 row33\" >33</th>\n                        <td id=\"T_10a48_row33_col0\" class=\"data row33 col0\" >PCA Components</td>\n                        <td id=\"T_10a48_row33_col1\" class=\"data row33 col1\" >None</td>\n            </tr>\n            <tr>\n                        <th id=\"T_10a48_level0_row34\" class=\"row_heading level0 row34\" >34</th>\n                        <td id=\"T_10a48_row34_col0\" class=\"data row34 col0\" >Ignore Low Variance</td>\n                        <td id=\"T_10a48_row34_col1\" class=\"data row34 col1\" >False</td>\n            </tr>\n            <tr>\n                        <th id=\"T_10a48_level0_row35\" class=\"row_heading level0 row35\" >35</th>\n                        <td id=\"T_10a48_row35_col0\" class=\"data row35 col0\" >Combine Rare Levels</td>\n                        <td id=\"T_10a48_row35_col1\" class=\"data row35 col1\" >False</td>\n            </tr>\n            <tr>\n                        <th id=\"T_10a48_level0_row36\" class=\"row_heading level0 row36\" >36</th>\n                        <td id=\"T_10a48_row36_col0\" class=\"data row36 col0\" >Rare Level Threshold</td>\n                        <td id=\"T_10a48_row36_col1\" class=\"data row36 col1\" >None</td>\n            </tr>\n            <tr>\n                        <th id=\"T_10a48_level0_row37\" class=\"row_heading level0 row37\" >37</th>\n                        <td id=\"T_10a48_row37_col0\" class=\"data row37 col0\" >Numeric Binning</td>\n                        <td id=\"T_10a48_row37_col1\" class=\"data row37 col1\" >False</td>\n            </tr>\n            <tr>\n                        <th id=\"T_10a48_level0_row38\" class=\"row_heading level0 row38\" >38</th>\n                        <td id=\"T_10a48_row38_col0\" class=\"data row38 col0\" >Remove Outliers</td>\n                        <td id=\"T_10a48_row38_col1\" class=\"data row38 col1\" >False</td>\n            </tr>\n            <tr>\n                        <th id=\"T_10a48_level0_row39\" class=\"row_heading level0 row39\" >39</th>\n                        <td id=\"T_10a48_row39_col0\" class=\"data row39 col0\" >Outliers Threshold</td>\n                        <td id=\"T_10a48_row39_col1\" class=\"data row39 col1\" >None</td>\n            </tr>\n            <tr>\n                        <th id=\"T_10a48_level0_row40\" class=\"row_heading level0 row40\" >40</th>\n                        <td id=\"T_10a48_row40_col0\" class=\"data row40 col0\" >Remove Multicollinearity</td>\n                        <td id=\"T_10a48_row40_col1\" class=\"data row40 col1\" >False</td>\n            </tr>\n            <tr>\n                        <th id=\"T_10a48_level0_row41\" class=\"row_heading level0 row41\" >41</th>\n                        <td id=\"T_10a48_row41_col0\" class=\"data row41 col0\" >Multicollinearity Threshold</td>\n                        <td id=\"T_10a48_row41_col1\" class=\"data row41 col1\" >None</td>\n            </tr>\n            <tr>\n                        <th id=\"T_10a48_level0_row42\" class=\"row_heading level0 row42\" >42</th>\n                        <td id=\"T_10a48_row42_col0\" class=\"data row42 col0\" >Clustering</td>\n                        <td id=\"T_10a48_row42_col1\" class=\"data row42 col1\" >False</td>\n            </tr>\n            <tr>\n                        <th id=\"T_10a48_level0_row43\" class=\"row_heading level0 row43\" >43</th>\n                        <td id=\"T_10a48_row43_col0\" class=\"data row43 col0\" >Clustering Iteration</td>\n                        <td id=\"T_10a48_row43_col1\" class=\"data row43 col1\" >None</td>\n            </tr>\n            <tr>\n                        <th id=\"T_10a48_level0_row44\" class=\"row_heading level0 row44\" >44</th>\n                        <td id=\"T_10a48_row44_col0\" class=\"data row44 col0\" >Polynomial Features</td>\n                        <td id=\"T_10a48_row44_col1\" class=\"data row44 col1\" >False</td>\n            </tr>\n            <tr>\n                        <th id=\"T_10a48_level0_row45\" class=\"row_heading level0 row45\" >45</th>\n                        <td id=\"T_10a48_row45_col0\" class=\"data row45 col0\" >Polynomial Degree</td>\n                        <td id=\"T_10a48_row45_col1\" class=\"data row45 col1\" >None</td>\n            </tr>\n            <tr>\n                        <th id=\"T_10a48_level0_row46\" class=\"row_heading level0 row46\" >46</th>\n                        <td id=\"T_10a48_row46_col0\" class=\"data row46 col0\" >Trignometry Features</td>\n                        <td id=\"T_10a48_row46_col1\" class=\"data row46 col1\" >False</td>\n            </tr>\n            <tr>\n                        <th id=\"T_10a48_level0_row47\" class=\"row_heading level0 row47\" >47</th>\n                        <td id=\"T_10a48_row47_col0\" class=\"data row47 col0\" >Polynomial Threshold</td>\n                        <td id=\"T_10a48_row47_col1\" class=\"data row47 col1\" >None</td>\n            </tr>\n            <tr>\n                        <th id=\"T_10a48_level0_row48\" class=\"row_heading level0 row48\" >48</th>\n                        <td id=\"T_10a48_row48_col0\" class=\"data row48 col0\" >Group Features</td>\n                        <td id=\"T_10a48_row48_col1\" class=\"data row48 col1\" >False</td>\n            </tr>\n            <tr>\n                        <th id=\"T_10a48_level0_row49\" class=\"row_heading level0 row49\" >49</th>\n                        <td id=\"T_10a48_row49_col0\" class=\"data row49 col0\" >Feature Selection</td>\n                        <td id=\"T_10a48_row49_col1\" class=\"data row49 col1\" >False</td>\n            </tr>\n            <tr>\n                        <th id=\"T_10a48_level0_row50\" class=\"row_heading level0 row50\" >50</th>\n                        <td id=\"T_10a48_row50_col0\" class=\"data row50 col0\" >Feature Selection Method</td>\n                        <td id=\"T_10a48_row50_col1\" class=\"data row50 col1\" >classic</td>\n            </tr>\n            <tr>\n                        <th id=\"T_10a48_level0_row51\" class=\"row_heading level0 row51\" >51</th>\n                        <td id=\"T_10a48_row51_col0\" class=\"data row51 col0\" >Features Selection Threshold</td>\n                        <td id=\"T_10a48_row51_col1\" class=\"data row51 col1\" >None</td>\n            </tr>\n            <tr>\n                        <th id=\"T_10a48_level0_row52\" class=\"row_heading level0 row52\" >52</th>\n                        <td id=\"T_10a48_row52_col0\" class=\"data row52 col0\" >Feature Interaction</td>\n                        <td id=\"T_10a48_row52_col1\" class=\"data row52 col1\" >False</td>\n            </tr>\n            <tr>\n                        <th id=\"T_10a48_level0_row53\" class=\"row_heading level0 row53\" >53</th>\n                        <td id=\"T_10a48_row53_col0\" class=\"data row53 col0\" >Feature Ratio</td>\n                        <td id=\"T_10a48_row53_col1\" class=\"data row53 col1\" >False</td>\n            </tr>\n            <tr>\n                        <th id=\"T_10a48_level0_row54\" class=\"row_heading level0 row54\" >54</th>\n                        <td id=\"T_10a48_row54_col0\" class=\"data row54 col0\" >Interaction Threshold</td>\n                        <td id=\"T_10a48_row54_col1\" class=\"data row54 col1\" >None</td>\n            </tr>\n            <tr>\n                        <th id=\"T_10a48_level0_row55\" class=\"row_heading level0 row55\" >55</th>\n                        <td id=\"T_10a48_row55_col0\" class=\"data row55 col0\" >Transform Target</td>\n                        <td id=\"T_10a48_row55_col1\" class=\"data row55 col1\" >False</td>\n            </tr>\n            <tr>\n                        <th id=\"T_10a48_level0_row56\" class=\"row_heading level0 row56\" >56</th>\n                        <td id=\"T_10a48_row56_col0\" class=\"data row56 col0\" >Transform Target Method</td>\n                        <td id=\"T_10a48_row56_col1\" class=\"data row56 col1\" >box-cox</td>\n            </tr>\n    </tbody></table>"
     },
     "metadata": {}
    }
   ],
   "source": [
    "from pycaret.regression import *\n",
    "exp_reg101 = setup(data = data, target = 'Price', session_id=123, normalize = True)"
   ]
  },
  {
   "cell_type": "code",
   "execution_count": 15,
   "metadata": {},
   "outputs": [
    {
     "output_type": "display_data",
     "data": {
      "text/plain": "<pandas.io.formats.style.Styler at 0x25d83059400>",
      "text/html": "<style  type=\"text/css\" >\n    #T_66d9c_ th {\n          text-align: left;\n    }#T_66d9c_row0_col0,#T_66d9c_row0_col1,#T_66d9c_row0_col5,#T_66d9c_row0_col6,#T_66d9c_row1_col0,#T_66d9c_row1_col1,#T_66d9c_row1_col2,#T_66d9c_row1_col3,#T_66d9c_row1_col4,#T_66d9c_row1_col5,#T_66d9c_row1_col6,#T_66d9c_row2_col0,#T_66d9c_row2_col2,#T_66d9c_row2_col3,#T_66d9c_row2_col4,#T_66d9c_row3_col0,#T_66d9c_row3_col1,#T_66d9c_row3_col2,#T_66d9c_row3_col3,#T_66d9c_row3_col4,#T_66d9c_row3_col5,#T_66d9c_row3_col6,#T_66d9c_row4_col0,#T_66d9c_row4_col1,#T_66d9c_row4_col2,#T_66d9c_row4_col3,#T_66d9c_row4_col4,#T_66d9c_row4_col5,#T_66d9c_row4_col6,#T_66d9c_row5_col0,#T_66d9c_row5_col1,#T_66d9c_row5_col2,#T_66d9c_row5_col3,#T_66d9c_row5_col4,#T_66d9c_row5_col5,#T_66d9c_row5_col6,#T_66d9c_row6_col0,#T_66d9c_row6_col1,#T_66d9c_row6_col2,#T_66d9c_row6_col3,#T_66d9c_row6_col4,#T_66d9c_row6_col5,#T_66d9c_row6_col6,#T_66d9c_row7_col0,#T_66d9c_row7_col1,#T_66d9c_row7_col2,#T_66d9c_row7_col3,#T_66d9c_row7_col4,#T_66d9c_row7_col5,#T_66d9c_row7_col6,#T_66d9c_row8_col0,#T_66d9c_row8_col1,#T_66d9c_row8_col2,#T_66d9c_row8_col3,#T_66d9c_row8_col4,#T_66d9c_row8_col5,#T_66d9c_row8_col6,#T_66d9c_row9_col0,#T_66d9c_row9_col1,#T_66d9c_row9_col2,#T_66d9c_row9_col3,#T_66d9c_row9_col4,#T_66d9c_row9_col5,#T_66d9c_row9_col6,#T_66d9c_row10_col0,#T_66d9c_row10_col1,#T_66d9c_row10_col2,#T_66d9c_row10_col3,#T_66d9c_row10_col4,#T_66d9c_row10_col5,#T_66d9c_row10_col6,#T_66d9c_row11_col0,#T_66d9c_row11_col1,#T_66d9c_row11_col2,#T_66d9c_row11_col3,#T_66d9c_row11_col4,#T_66d9c_row11_col5,#T_66d9c_row11_col6,#T_66d9c_row12_col0,#T_66d9c_row12_col1,#T_66d9c_row12_col2,#T_66d9c_row12_col3,#T_66d9c_row12_col4,#T_66d9c_row12_col5,#T_66d9c_row12_col6,#T_66d9c_row13_col0,#T_66d9c_row13_col1,#T_66d9c_row13_col2,#T_66d9c_row13_col3,#T_66d9c_row13_col4,#T_66d9c_row13_col5,#T_66d9c_row13_col6,#T_66d9c_row14_col0,#T_66d9c_row14_col1,#T_66d9c_row14_col2,#T_66d9c_row14_col3,#T_66d9c_row14_col4,#T_66d9c_row14_col5,#T_66d9c_row14_col6,#T_66d9c_row15_col0,#T_66d9c_row15_col1,#T_66d9c_row15_col2,#T_66d9c_row15_col3,#T_66d9c_row15_col4,#T_66d9c_row15_col5,#T_66d9c_row15_col6,#T_66d9c_row16_col0,#T_66d9c_row16_col1,#T_66d9c_row16_col2,#T_66d9c_row16_col3,#T_66d9c_row16_col4,#T_66d9c_row16_col5,#T_66d9c_row16_col6{\n            text-align:  left;\n            text-align:  left;\n        }#T_66d9c_row0_col2,#T_66d9c_row0_col3,#T_66d9c_row0_col4,#T_66d9c_row2_col1,#T_66d9c_row2_col5,#T_66d9c_row2_col6{\n            text-align:  left;\n            text-align:  left;\n            background-color:  yellow;\n        }#T_66d9c_row0_col7,#T_66d9c_row1_col7,#T_66d9c_row2_col7,#T_66d9c_row3_col7,#T_66d9c_row4_col7,#T_66d9c_row5_col7,#T_66d9c_row6_col7,#T_66d9c_row7_col7,#T_66d9c_row8_col7,#T_66d9c_row9_col7,#T_66d9c_row10_col7,#T_66d9c_row11_col7,#T_66d9c_row12_col7,#T_66d9c_row13_col7,#T_66d9c_row14_col7,#T_66d9c_row16_col7{\n            text-align:  left;\n            text-align:  left;\n            background-color:  lightgrey;\n        }#T_66d9c_row15_col7{\n            text-align:  left;\n            text-align:  left;\n            background-color:  yellow;\n            background-color:  lightgrey;\n        }</style><table id=\"T_66d9c_\" ><thead>    <tr>        <th class=\"blank level0\" ></th>        <th class=\"col_heading level0 col0\" >Model</th>        <th class=\"col_heading level0 col1\" >MAE</th>        <th class=\"col_heading level0 col2\" >MSE</th>        <th class=\"col_heading level0 col3\" >RMSE</th>        <th class=\"col_heading level0 col4\" >R2</th>        <th class=\"col_heading level0 col5\" >RMSLE</th>        <th class=\"col_heading level0 col6\" >MAPE</th>        <th class=\"col_heading level0 col7\" >TT (Sec)</th>    </tr></thead><tbody>\n                <tr>\n                        <th id=\"T_66d9c_level0_row0\" class=\"row_heading level0 row0\" >et</th>\n                        <td id=\"T_66d9c_row0_col0\" class=\"data row0 col0\" >Extra Trees Regressor</td>\n                        <td id=\"T_66d9c_row0_col1\" class=\"data row0 col1\" >762.0118</td>\n                        <td id=\"T_66d9c_row0_col2\" class=\"data row0 col2\" >2763999.1585</td>\n                        <td id=\"T_66d9c_row0_col3\" class=\"data row0 col3\" >1612.2410</td>\n                        <td id=\"T_66d9c_row0_col4\" class=\"data row0 col4\" >0.9729</td>\n                        <td id=\"T_66d9c_row0_col5\" class=\"data row0 col5\" >0.0817</td>\n                        <td id=\"T_66d9c_row0_col6\" class=\"data row0 col6\" >0.0607</td>\n                        <td id=\"T_66d9c_row0_col7\" class=\"data row0 col7\" >0.1450</td>\n            </tr>\n            <tr>\n                        <th id=\"T_66d9c_level0_row1\" class=\"row_heading level0 row1\" >rf</th>\n                        <td id=\"T_66d9c_row1_col0\" class=\"data row1 col0\" >Random Forest Regressor</td>\n                        <td id=\"T_66d9c_row1_col1\" class=\"data row1 col1\" >760.1178</td>\n                        <td id=\"T_66d9c_row1_col2\" class=\"data row1 col2\" >2926249.0594</td>\n                        <td id=\"T_66d9c_row1_col3\" class=\"data row1 col3\" >1661.9234</td>\n                        <td id=\"T_66d9c_row1_col4\" class=\"data row1 col4\" >0.9715</td>\n                        <td id=\"T_66d9c_row1_col5\" class=\"data row1 col5\" >0.0817</td>\n                        <td id=\"T_66d9c_row1_col6\" class=\"data row1 col6\" >0.0597</td>\n                        <td id=\"T_66d9c_row1_col7\" class=\"data row1 col7\" >0.1310</td>\n            </tr>\n            <tr>\n                        <th id=\"T_66d9c_level0_row2\" class=\"row_heading level0 row2\" >lightgbm</th>\n                        <td id=\"T_66d9c_row2_col0\" class=\"data row2 col0\" >Light Gradient Boosting Machine</td>\n                        <td id=\"T_66d9c_row2_col1\" class=\"data row2 col1\" >752.8888</td>\n                        <td id=\"T_66d9c_row2_col2\" class=\"data row2 col2\" >3056883.9503</td>\n                        <td id=\"T_66d9c_row2_col3\" class=\"data row2 col3\" >1688.2518</td>\n                        <td id=\"T_66d9c_row2_col4\" class=\"data row2 col4\" >0.9711</td>\n                        <td id=\"T_66d9c_row2_col5\" class=\"data row2 col5\" >0.0773</td>\n                        <td id=\"T_66d9c_row2_col6\" class=\"data row2 col6\" >0.0567</td>\n                        <td id=\"T_66d9c_row2_col7\" class=\"data row2 col7\" >0.0140</td>\n            </tr>\n            <tr>\n                        <th id=\"T_66d9c_level0_row3\" class=\"row_heading level0 row3\" >gbr</th>\n                        <td id=\"T_66d9c_row3_col0\" class=\"data row3 col0\" >Gradient Boosting Regressor</td>\n                        <td id=\"T_66d9c_row3_col1\" class=\"data row3 col1\" >920.5793</td>\n                        <td id=\"T_66d9c_row3_col2\" class=\"data row3 col2\" >3764751.6131</td>\n                        <td id=\"T_66d9c_row3_col3\" class=\"data row3 col3\" >1901.5496</td>\n                        <td id=\"T_66d9c_row3_col4\" class=\"data row3 col4\" >0.9633</td>\n                        <td id=\"T_66d9c_row3_col5\" class=\"data row3 col5\" >0.1024</td>\n                        <td id=\"T_66d9c_row3_col6\" class=\"data row3 col6\" >0.0770</td>\n                        <td id=\"T_66d9c_row3_col7\" class=\"data row3 col7\" >0.0340</td>\n            </tr>\n            <tr>\n                        <th id=\"T_66d9c_level0_row4\" class=\"row_heading level0 row4\" >dt</th>\n                        <td id=\"T_66d9c_row4_col0\" class=\"data row4 col0\" >Decision Tree Regressor</td>\n                        <td id=\"T_66d9c_row4_col1\" class=\"data row4 col1\" >1002.1972</td>\n                        <td id=\"T_66d9c_row4_col2\" class=\"data row4 col2\" >5302467.7551</td>\n                        <td id=\"T_66d9c_row4_col3\" class=\"data row4 col3\" >2227.7463</td>\n                        <td id=\"T_66d9c_row4_col4\" class=\"data row4 col4\" >0.9476</td>\n                        <td id=\"T_66d9c_row4_col5\" class=\"data row4 col5\" >0.1082</td>\n                        <td id=\"T_66d9c_row4_col6\" class=\"data row4 col6\" >0.0774</td>\n                        <td id=\"T_66d9c_row4_col7\" class=\"data row4 col7\" >0.0050</td>\n            </tr>\n            <tr>\n                        <th id=\"T_66d9c_level0_row5\" class=\"row_heading level0 row5\" >knn</th>\n                        <td id=\"T_66d9c_row5_col0\" class=\"data row5 col0\" >K Neighbors Regressor</td>\n                        <td id=\"T_66d9c_row5_col1\" class=\"data row5 col1\" >1768.8920</td>\n                        <td id=\"T_66d9c_row5_col2\" class=\"data row5 col2\" >10880444.0500</td>\n                        <td id=\"T_66d9c_row5_col3\" class=\"data row5 col3\" >3273.0704</td>\n                        <td id=\"T_66d9c_row5_col4\" class=\"data row5 col4\" >0.8926</td>\n                        <td id=\"T_66d9c_row5_col5\" class=\"data row5 col5\" >0.2217</td>\n                        <td id=\"T_66d9c_row5_col6\" class=\"data row5 col6\" >0.1641</td>\n                        <td id=\"T_66d9c_row5_col7\" class=\"data row5 col7\" >0.0140</td>\n            </tr>\n            <tr>\n                        <th id=\"T_66d9c_level0_row6\" class=\"row_heading level0 row6\" >ridge</th>\n                        <td id=\"T_66d9c_row6_col0\" class=\"data row6 col0\" >Ridge Regression</td>\n                        <td id=\"T_66d9c_row6_col1\" class=\"data row6 col1\" >2415.2563</td>\n                        <td id=\"T_66d9c_row6_col2\" class=\"data row6 col2\" >14120120.5000</td>\n                        <td id=\"T_66d9c_row6_col3\" class=\"data row6 col3\" >3726.2067</td>\n                        <td id=\"T_66d9c_row6_col4\" class=\"data row6 col4\" >0.8621</td>\n                        <td id=\"T_66d9c_row6_col5\" class=\"data row6 col5\" >0.6687</td>\n                        <td id=\"T_66d9c_row6_col6\" class=\"data row6 col6\" >0.2879</td>\n                        <td id=\"T_66d9c_row6_col7\" class=\"data row6 col7\" >0.0050</td>\n            </tr>\n            <tr>\n                        <th id=\"T_66d9c_level0_row7\" class=\"row_heading level0 row7\" >lasso</th>\n                        <td id=\"T_66d9c_row7_col0\" class=\"data row7 col0\" >Lasso Regression</td>\n                        <td id=\"T_66d9c_row7_col1\" class=\"data row7 col1\" >2412.4036</td>\n                        <td id=\"T_66d9c_row7_col2\" class=\"data row7 col2\" >14246721.3000</td>\n                        <td id=\"T_66d9c_row7_col3\" class=\"data row7 col3\" >3744.2323</td>\n                        <td id=\"T_66d9c_row7_col4\" class=\"data row7 col4\" >0.8608</td>\n                        <td id=\"T_66d9c_row7_col5\" class=\"data row7 col5\" >0.6741</td>\n                        <td id=\"T_66d9c_row7_col6\" class=\"data row7 col6\" >0.2866</td>\n                        <td id=\"T_66d9c_row7_col7\" class=\"data row7 col7\" >0.1430</td>\n            </tr>\n            <tr>\n                        <th id=\"T_66d9c_level0_row8\" class=\"row_heading level0 row8\" >llar</th>\n                        <td id=\"T_66d9c_row8_col0\" class=\"data row8 col0\" >Lasso Least Angle Regression</td>\n                        <td id=\"T_66d9c_row8_col1\" class=\"data row8 col1\" >2355.6149</td>\n                        <td id=\"T_66d9c_row8_col2\" class=\"data row8 col2\" >14272020.3989</td>\n                        <td id=\"T_66d9c_row8_col3\" class=\"data row8 col3\" >3745.3094</td>\n                        <td id=\"T_66d9c_row8_col4\" class=\"data row8 col4\" >0.8607</td>\n                        <td id=\"T_66d9c_row8_col5\" class=\"data row8 col5\" >0.6391</td>\n                        <td id=\"T_66d9c_row8_col6\" class=\"data row8 col6\" >0.2728</td>\n                        <td id=\"T_66d9c_row8_col7\" class=\"data row8 col7\" >0.0040</td>\n            </tr>\n            <tr>\n                        <th id=\"T_66d9c_level0_row9\" class=\"row_heading level0 row9\" >lr</th>\n                        <td id=\"T_66d9c_row9_col0\" class=\"data row9 col0\" >Linear Regression</td>\n                        <td id=\"T_66d9c_row9_col1\" class=\"data row9 col1\" >2413.1627</td>\n                        <td id=\"T_66d9c_row9_col2\" class=\"data row9 col2\" >14256607.9000</td>\n                        <td id=\"T_66d9c_row9_col3\" class=\"data row9 col3\" >3745.8694</td>\n                        <td id=\"T_66d9c_row9_col4\" class=\"data row9 col4\" >0.8606</td>\n                        <td id=\"T_66d9c_row9_col5\" class=\"data row9 col5\" >0.6683</td>\n                        <td id=\"T_66d9c_row9_col6\" class=\"data row9 col6\" >0.2868</td>\n                        <td id=\"T_66d9c_row9_col7\" class=\"data row9 col7\" >0.2690</td>\n            </tr>\n            <tr>\n                        <th id=\"T_66d9c_level0_row10\" class=\"row_heading level0 row10\" >br</th>\n                        <td id=\"T_66d9c_row10_col0\" class=\"data row10 col0\" >Bayesian Ridge</td>\n                        <td id=\"T_66d9c_row10_col1\" class=\"data row10 col1\" >2417.3207</td>\n                        <td id=\"T_66d9c_row10_col2\" class=\"data row10 col2\" >14345018.1923</td>\n                        <td id=\"T_66d9c_row10_col3\" class=\"data row10 col3\" >3755.5594</td>\n                        <td id=\"T_66d9c_row10_col4\" class=\"data row10 col4\" >0.8600</td>\n                        <td id=\"T_66d9c_row10_col5\" class=\"data row10 col5\" >0.6692</td>\n                        <td id=\"T_66d9c_row10_col6\" class=\"data row10 col6\" >0.2874</td>\n                        <td id=\"T_66d9c_row10_col7\" class=\"data row10 col7\" >0.0040</td>\n            </tr>\n            <tr>\n                        <th id=\"T_66d9c_level0_row11\" class=\"row_heading level0 row11\" >huber</th>\n                        <td id=\"T_66d9c_row11_col0\" class=\"data row11 col0\" >Huber Regressor</td>\n                        <td id=\"T_66d9c_row11_col1\" class=\"data row11 col1\" >1936.3181</td>\n                        <td id=\"T_66d9c_row11_col2\" class=\"data row11 col2\" >18569928.3788</td>\n                        <td id=\"T_66d9c_row11_col3\" class=\"data row11 col3\" >4249.6092</td>\n                        <td id=\"T_66d9c_row11_col4\" class=\"data row11 col4\" >0.8212</td>\n                        <td id=\"T_66d9c_row11_col5\" class=\"data row11 col5\" >0.4329</td>\n                        <td id=\"T_66d9c_row11_col6\" class=\"data row11 col6\" >0.1659</td>\n                        <td id=\"T_66d9c_row11_col7\" class=\"data row11 col7\" >0.0150</td>\n            </tr>\n            <tr>\n                        <th id=\"T_66d9c_level0_row12\" class=\"row_heading level0 row12\" >par</th>\n                        <td id=\"T_66d9c_row12_col0\" class=\"data row12 col0\" >Passive Aggressive Regressor</td>\n                        <td id=\"T_66d9c_row12_col1\" class=\"data row12 col1\" >1939.8667</td>\n                        <td id=\"T_66d9c_row12_col2\" class=\"data row12 col2\" >20028190.3673</td>\n                        <td id=\"T_66d9c_row12_col3\" class=\"data row12 col3\" >4406.8833</td>\n                        <td id=\"T_66d9c_row12_col4\" class=\"data row12 col4\" >0.8076</td>\n                        <td id=\"T_66d9c_row12_col5\" class=\"data row12 col5\" >0.4063</td>\n                        <td id=\"T_66d9c_row12_col6\" class=\"data row12 col6\" >0.1585</td>\n                        <td id=\"T_66d9c_row12_col7\" class=\"data row12 col7\" >0.0080</td>\n            </tr>\n            <tr>\n                        <th id=\"T_66d9c_level0_row13\" class=\"row_heading level0 row13\" >omp</th>\n                        <td id=\"T_66d9c_row13_col0\" class=\"data row13 col0\" >Orthogonal Matching Pursuit</td>\n                        <td id=\"T_66d9c_row13_col1\" class=\"data row13 col1\" >2792.7311</td>\n                        <td id=\"T_66d9c_row13_col2\" class=\"data row13 col2\" >23728654.7601</td>\n                        <td id=\"T_66d9c_row13_col3\" class=\"data row13 col3\" >4829.3171</td>\n                        <td id=\"T_66d9c_row13_col4\" class=\"data row13 col4\" >0.7678</td>\n                        <td id=\"T_66d9c_row13_col5\" class=\"data row13 col5\" >0.5818</td>\n                        <td id=\"T_66d9c_row13_col6\" class=\"data row13 col6\" >0.2654</td>\n                        <td id=\"T_66d9c_row13_col7\" class=\"data row13 col7\" >0.0040</td>\n            </tr>\n            <tr>\n                        <th id=\"T_66d9c_level0_row14\" class=\"row_heading level0 row14\" >ada</th>\n                        <td id=\"T_66d9c_row14_col0\" class=\"data row14 col0\" >AdaBoost Regressor</td>\n                        <td id=\"T_66d9c_row14_col1\" class=\"data row14 col1\" >4346.4286</td>\n                        <td id=\"T_66d9c_row14_col2\" class=\"data row14 col2\" >26338975.2200</td>\n                        <td id=\"T_66d9c_row14_col3\" class=\"data row14 col3\" >5123.0276</td>\n                        <td id=\"T_66d9c_row14_col4\" class=\"data row14 col4\" >0.7349</td>\n                        <td id=\"T_66d9c_row14_col5\" class=\"data row14 col5\" >0.5225</td>\n                        <td id=\"T_66d9c_row14_col6\" class=\"data row14 col6\" >0.6179</td>\n                        <td id=\"T_66d9c_row14_col7\" class=\"data row14 col7\" >0.0290</td>\n            </tr>\n            <tr>\n                        <th id=\"T_66d9c_level0_row15\" class=\"row_heading level0 row15\" >en</th>\n                        <td id=\"T_66d9c_row15_col0\" class=\"data row15 col0\" >Elastic Net</td>\n                        <td id=\"T_66d9c_row15_col1\" class=\"data row15 col1\" >2997.5411</td>\n                        <td id=\"T_66d9c_row15_col2\" class=\"data row15 col2\" >29508666.4000</td>\n                        <td id=\"T_66d9c_row15_col3\" class=\"data row15 col3\" >5369.3244</td>\n                        <td id=\"T_66d9c_row15_col4\" class=\"data row15 col4\" >0.7147</td>\n                        <td id=\"T_66d9c_row15_col5\" class=\"data row15 col5\" >0.3098</td>\n                        <td id=\"T_66d9c_row15_col6\" class=\"data row15 col6\" >0.2966</td>\n                        <td id=\"T_66d9c_row15_col7\" class=\"data row15 col7\" >0.0030</td>\n            </tr>\n            <tr>\n                        <th id=\"T_66d9c_level0_row16\" class=\"row_heading level0 row16\" >lar</th>\n                        <td id=\"T_66d9c_row16_col0\" class=\"data row16 col0\" >Least Angle Regression</td>\n                        <td id=\"T_66d9c_row16_col1\" class=\"data row16 col1\" >90964.8886</td>\n                        <td id=\"T_66d9c_row16_col2\" class=\"data row16 col2\" >316629994685.0718</td>\n                        <td id=\"T_66d9c_row16_col3\" class=\"data row16 col3\" >181361.7626</td>\n                        <td id=\"T_66d9c_row16_col4\" class=\"data row16 col4\" >-3948.1770</td>\n                        <td id=\"T_66d9c_row16_col5\" class=\"data row16 col5\" >1.0410</td>\n                        <td id=\"T_66d9c_row16_col6\" class=\"data row16 col6\" >13.6387</td>\n                        <td id=\"T_66d9c_row16_col7\" class=\"data row16 col7\" >0.0040</td>\n            </tr>\n    </tbody></table>"
     },
     "metadata": {}
    }
   ],
   "source": [
    "best = compare_models(exclude = ['ransac'])"
   ]
  },
  {
   "cell_type": "code",
   "execution_count": 16,
   "metadata": {},
   "outputs": [
    {
     "output_type": "execute_result",
     "data": {
      "text/plain": [
       "                                       Name  \\\n",
       "ID                                            \n",
       "lr                        Linear Regression   \n",
       "lasso                      Lasso Regression   \n",
       "ridge                      Ridge Regression   \n",
       "en                              Elastic Net   \n",
       "lar                  Least Angle Regression   \n",
       "llar           Lasso Least Angle Regression   \n",
       "omp             Orthogonal Matching Pursuit   \n",
       "br                           Bayesian Ridge   \n",
       "ard       Automatic Relevance Determination   \n",
       "par            Passive Aggressive Regressor   \n",
       "ransac              Random Sample Consensus   \n",
       "tr                       TheilSen Regressor   \n",
       "huber                       Huber Regressor   \n",
       "kr                             Kernel Ridge   \n",
       "svm               Support Vector Regression   \n",
       "knn                   K Neighbors Regressor   \n",
       "dt                  Decision Tree Regressor   \n",
       "rf                  Random Forest Regressor   \n",
       "et                    Extra Trees Regressor   \n",
       "ada                      AdaBoost Regressor   \n",
       "gbr             Gradient Boosting Regressor   \n",
       "mlp                           MLP Regressor   \n",
       "lightgbm    Light Gradient Boosting Machine   \n",
       "\n",
       "                                                  Reference  Turbo  \n",
       "ID                                                                  \n",
       "lr              sklearn.linear_model._base.LinearRegression   True  \n",
       "lasso        sklearn.linear_model._coordinate_descent.Lasso   True  \n",
       "ridge                     sklearn.linear_model._ridge.Ridge   True  \n",
       "en        sklearn.linear_model._coordinate_descent.Elast...   True  \n",
       "lar                  sklearn.linear_model._least_angle.Lars   True  \n",
       "llar            sklearn.linear_model._least_angle.LassoLars   True  \n",
       "omp       sklearn.linear_model._omp.OrthogonalMatchingPu...   True  \n",
       "br                sklearn.linear_model._bayes.BayesianRidge   True  \n",
       "ard               sklearn.linear_model._bayes.ARDRegression  False  \n",
       "par       sklearn.linear_model._passive_aggressive.Passi...   True  \n",
       "ransac         sklearn.linear_model._ransac.RANSACRegressor  False  \n",
       "tr        sklearn.linear_model._theil_sen.TheilSenRegressor  False  \n",
       "huber            sklearn.linear_model._huber.HuberRegressor   True  \n",
       "kr                         sklearn.kernel_ridge.KernelRidge  False  \n",
       "svm                                sklearn.svm._classes.SVR  False  \n",
       "knn       sklearn.neighbors._regression.KNeighborsRegressor   True  \n",
       "dt              sklearn.tree._classes.DecisionTreeRegressor   True  \n",
       "rf           sklearn.ensemble._forest.RandomForestRegressor   True  \n",
       "et             sklearn.ensemble._forest.ExtraTreesRegressor   True  \n",
       "ada       sklearn.ensemble._weight_boosting.AdaBoostRegr...   True  \n",
       "gbr          sklearn.ensemble._gb.GradientBoostingRegressor   True  \n",
       "mlp       sklearn.neural_network._multilayer_perceptron....  False  \n",
       "lightgbm                     lightgbm.sklearn.LGBMRegressor   True  "
      ],
      "text/html": "<div>\n<style scoped>\n    .dataframe tbody tr th:only-of-type {\n        vertical-align: middle;\n    }\n\n    .dataframe tbody tr th {\n        vertical-align: top;\n    }\n\n    .dataframe thead th {\n        text-align: right;\n    }\n</style>\n<table border=\"1\" class=\"dataframe\">\n  <thead>\n    <tr style=\"text-align: right;\">\n      <th></th>\n      <th>Name</th>\n      <th>Reference</th>\n      <th>Turbo</th>\n    </tr>\n    <tr>\n      <th>ID</th>\n      <th></th>\n      <th></th>\n      <th></th>\n    </tr>\n  </thead>\n  <tbody>\n    <tr>\n      <th>lr</th>\n      <td>Linear Regression</td>\n      <td>sklearn.linear_model._base.LinearRegression</td>\n      <td>True</td>\n    </tr>\n    <tr>\n      <th>lasso</th>\n      <td>Lasso Regression</td>\n      <td>sklearn.linear_model._coordinate_descent.Lasso</td>\n      <td>True</td>\n    </tr>\n    <tr>\n      <th>ridge</th>\n      <td>Ridge Regression</td>\n      <td>sklearn.linear_model._ridge.Ridge</td>\n      <td>True</td>\n    </tr>\n    <tr>\n      <th>en</th>\n      <td>Elastic Net</td>\n      <td>sklearn.linear_model._coordinate_descent.Elast...</td>\n      <td>True</td>\n    </tr>\n    <tr>\n      <th>lar</th>\n      <td>Least Angle Regression</td>\n      <td>sklearn.linear_model._least_angle.Lars</td>\n      <td>True</td>\n    </tr>\n    <tr>\n      <th>llar</th>\n      <td>Lasso Least Angle Regression</td>\n      <td>sklearn.linear_model._least_angle.LassoLars</td>\n      <td>True</td>\n    </tr>\n    <tr>\n      <th>omp</th>\n      <td>Orthogonal Matching Pursuit</td>\n      <td>sklearn.linear_model._omp.OrthogonalMatchingPu...</td>\n      <td>True</td>\n    </tr>\n    <tr>\n      <th>br</th>\n      <td>Bayesian Ridge</td>\n      <td>sklearn.linear_model._bayes.BayesianRidge</td>\n      <td>True</td>\n    </tr>\n    <tr>\n      <th>ard</th>\n      <td>Automatic Relevance Determination</td>\n      <td>sklearn.linear_model._bayes.ARDRegression</td>\n      <td>False</td>\n    </tr>\n    <tr>\n      <th>par</th>\n      <td>Passive Aggressive Regressor</td>\n      <td>sklearn.linear_model._passive_aggressive.Passi...</td>\n      <td>True</td>\n    </tr>\n    <tr>\n      <th>ransac</th>\n      <td>Random Sample Consensus</td>\n      <td>sklearn.linear_model._ransac.RANSACRegressor</td>\n      <td>False</td>\n    </tr>\n    <tr>\n      <th>tr</th>\n      <td>TheilSen Regressor</td>\n      <td>sklearn.linear_model._theil_sen.TheilSenRegressor</td>\n      <td>False</td>\n    </tr>\n    <tr>\n      <th>huber</th>\n      <td>Huber Regressor</td>\n      <td>sklearn.linear_model._huber.HuberRegressor</td>\n      <td>True</td>\n    </tr>\n    <tr>\n      <th>kr</th>\n      <td>Kernel Ridge</td>\n      <td>sklearn.kernel_ridge.KernelRidge</td>\n      <td>False</td>\n    </tr>\n    <tr>\n      <th>svm</th>\n      <td>Support Vector Regression</td>\n      <td>sklearn.svm._classes.SVR</td>\n      <td>False</td>\n    </tr>\n    <tr>\n      <th>knn</th>\n      <td>K Neighbors Regressor</td>\n      <td>sklearn.neighbors._regression.KNeighborsRegressor</td>\n      <td>True</td>\n    </tr>\n    <tr>\n      <th>dt</th>\n      <td>Decision Tree Regressor</td>\n      <td>sklearn.tree._classes.DecisionTreeRegressor</td>\n      <td>True</td>\n    </tr>\n    <tr>\n      <th>rf</th>\n      <td>Random Forest Regressor</td>\n      <td>sklearn.ensemble._forest.RandomForestRegressor</td>\n      <td>True</td>\n    </tr>\n    <tr>\n      <th>et</th>\n      <td>Extra Trees Regressor</td>\n      <td>sklearn.ensemble._forest.ExtraTreesRegressor</td>\n      <td>True</td>\n    </tr>\n    <tr>\n      <th>ada</th>\n      <td>AdaBoost Regressor</td>\n      <td>sklearn.ensemble._weight_boosting.AdaBoostRegr...</td>\n      <td>True</td>\n    </tr>\n    <tr>\n      <th>gbr</th>\n      <td>Gradient Boosting Regressor</td>\n      <td>sklearn.ensemble._gb.GradientBoostingRegressor</td>\n      <td>True</td>\n    </tr>\n    <tr>\n      <th>mlp</th>\n      <td>MLP Regressor</td>\n      <td>sklearn.neural_network._multilayer_perceptron....</td>\n      <td>False</td>\n    </tr>\n    <tr>\n      <th>lightgbm</th>\n      <td>Light Gradient Boosting Machine</td>\n      <td>lightgbm.sklearn.LGBMRegressor</td>\n      <td>True</td>\n    </tr>\n  </tbody>\n</table>\n</div>"
     },
     "metadata": {},
     "execution_count": 16
    }
   ],
   "source": [
    "models()"
   ]
  },
  {
   "cell_type": "code",
   "execution_count": 17,
   "metadata": {},
   "outputs": [
    {
     "output_type": "display_data",
     "data": {
      "text/plain": "<pandas.io.formats.style.Styler at 0x25d832b55e0>",
      "text/html": "<style  type=\"text/css\" >\n#T_5a484_row10_col0,#T_5a484_row10_col1,#T_5a484_row10_col2,#T_5a484_row10_col3,#T_5a484_row10_col4,#T_5a484_row10_col5{\n            background:  yellow;\n        }</style><table id=\"T_5a484_\" ><thead>    <tr>        <th class=\"blank level0\" ></th>        <th class=\"col_heading level0 col0\" >MAE</th>        <th class=\"col_heading level0 col1\" >MSE</th>        <th class=\"col_heading level0 col2\" >RMSE</th>        <th class=\"col_heading level0 col3\" >R2</th>        <th class=\"col_heading level0 col4\" >RMSLE</th>        <th class=\"col_heading level0 col5\" >MAPE</th>    </tr></thead><tbody>\n                <tr>\n                        <th id=\"T_5a484_level0_row0\" class=\"row_heading level0 row0\" >0</th>\n                        <td id=\"T_5a484_row0_col0\" class=\"data row0 col0\" >3916.0732</td>\n                        <td id=\"T_5a484_row0_col1\" class=\"data row0 col1\" >22023287.6602</td>\n                        <td id=\"T_5a484_row0_col2\" class=\"data row0 col2\" >4692.8976</td>\n                        <td id=\"T_5a484_row0_col3\" class=\"data row0 col3\" >0.7582</td>\n                        <td id=\"T_5a484_row0_col4\" class=\"data row0 col4\" >0.4531</td>\n                        <td id=\"T_5a484_row0_col5\" class=\"data row0 col5\" >0.5107</td>\n            </tr>\n            <tr>\n                        <th id=\"T_5a484_level0_row1\" class=\"row_heading level0 row1\" >1</th>\n                        <td id=\"T_5a484_row1_col0\" class=\"data row1 col0\" >4360.9397</td>\n                        <td id=\"T_5a484_row1_col1\" class=\"data row1 col1\" >30278296.5118</td>\n                        <td id=\"T_5a484_row1_col2\" class=\"data row1 col2\" >5502.5718</td>\n                        <td id=\"T_5a484_row1_col3\" class=\"data row1 col3\" >0.7680</td>\n                        <td id=\"T_5a484_row1_col4\" class=\"data row1 col4\" >0.5005</td>\n                        <td id=\"T_5a484_row1_col5\" class=\"data row1 col5\" >0.5845</td>\n            </tr>\n            <tr>\n                        <th id=\"T_5a484_level0_row2\" class=\"row_heading level0 row2\" >2</th>\n                        <td id=\"T_5a484_row2_col0\" class=\"data row2 col0\" >4888.5203</td>\n                        <td id=\"T_5a484_row2_col1\" class=\"data row2 col1\" >29214381.0110</td>\n                        <td id=\"T_5a484_row2_col2\" class=\"data row2 col2\" >5405.0329</td>\n                        <td id=\"T_5a484_row2_col3\" class=\"data row2 col3\" >0.7321</td>\n                        <td id=\"T_5a484_row2_col4\" class=\"data row2 col4\" >0.6025</td>\n                        <td id=\"T_5a484_row2_col5\" class=\"data row2 col5\" >0.7529</td>\n            </tr>\n            <tr>\n                        <th id=\"T_5a484_level0_row3\" class=\"row_heading level0 row3\" >3</th>\n                        <td id=\"T_5a484_row3_col0\" class=\"data row3 col0\" >4234.5176</td>\n                        <td id=\"T_5a484_row3_col1\" class=\"data row3 col1\" >22927466.2701</td>\n                        <td id=\"T_5a484_row3_col2\" class=\"data row3 col2\" >4788.2634</td>\n                        <td id=\"T_5a484_row3_col3\" class=\"data row3 col3\" >0.7470</td>\n                        <td id=\"T_5a484_row3_col4\" class=\"data row3 col4\" >0.5134</td>\n                        <td id=\"T_5a484_row3_col5\" class=\"data row3 col5\" >0.5976</td>\n            </tr>\n            <tr>\n                        <th id=\"T_5a484_level0_row4\" class=\"row_heading level0 row4\" >4</th>\n                        <td id=\"T_5a484_row4_col0\" class=\"data row4 col0\" >4145.7508</td>\n                        <td id=\"T_5a484_row4_col1\" class=\"data row4 col1\" >26324797.7268</td>\n                        <td id=\"T_5a484_row4_col2\" class=\"data row4 col2\" >5130.7697</td>\n                        <td id=\"T_5a484_row4_col3\" class=\"data row4 col3\" >0.6717</td>\n                        <td id=\"T_5a484_row4_col4\" class=\"data row4 col4\" >0.5014</td>\n                        <td id=\"T_5a484_row4_col5\" class=\"data row4 col5\" >0.5877</td>\n            </tr>\n            <tr>\n                        <th id=\"T_5a484_level0_row5\" class=\"row_heading level0 row5\" >5</th>\n                        <td id=\"T_5a484_row5_col0\" class=\"data row5 col0\" >4573.0428</td>\n                        <td id=\"T_5a484_row5_col1\" class=\"data row5 col1\" >29825292.6109</td>\n                        <td id=\"T_5a484_row5_col2\" class=\"data row5 col2\" >5461.2538</td>\n                        <td id=\"T_5a484_row5_col3\" class=\"data row5 col3\" >0.7454</td>\n                        <td id=\"T_5a484_row5_col4\" class=\"data row5 col4\" >0.5455</td>\n                        <td id=\"T_5a484_row5_col5\" class=\"data row5 col5\" >0.6580</td>\n            </tr>\n            <tr>\n                        <th id=\"T_5a484_level0_row6\" class=\"row_heading level0 row6\" >6</th>\n                        <td id=\"T_5a484_row6_col0\" class=\"data row6 col0\" >4415.2098</td>\n                        <td id=\"T_5a484_row6_col1\" class=\"data row6 col1\" >26515712.1111</td>\n                        <td id=\"T_5a484_row6_col2\" class=\"data row6 col2\" >5149.3409</td>\n                        <td id=\"T_5a484_row6_col3\" class=\"data row6 col3\" >0.7509</td>\n                        <td id=\"T_5a484_row6_col4\" class=\"data row6 col4\" >0.5335</td>\n                        <td id=\"T_5a484_row6_col5\" class=\"data row6 col5\" >0.6298</td>\n            </tr>\n            <tr>\n                        <th id=\"T_5a484_level0_row7\" class=\"row_heading level0 row7\" >7</th>\n                        <td id=\"T_5a484_row7_col0\" class=\"data row7 col0\" >4627.4198</td>\n                        <td id=\"T_5a484_row7_col1\" class=\"data row7 col1\" >29244362.0079</td>\n                        <td id=\"T_5a484_row7_col2\" class=\"data row7 col2\" >5407.8057</td>\n                        <td id=\"T_5a484_row7_col3\" class=\"data row7 col3\" >0.6302</td>\n                        <td id=\"T_5a484_row7_col4\" class=\"data row7 col4\" >0.5479</td>\n                        <td id=\"T_5a484_row7_col5\" class=\"data row7 col5\" >0.6558</td>\n            </tr>\n            <tr>\n                        <th id=\"T_5a484_level0_row8\" class=\"row_heading level0 row8\" >8</th>\n                        <td id=\"T_5a484_row8_col0\" class=\"data row8 col0\" >4010.2564</td>\n                        <td id=\"T_5a484_row8_col1\" class=\"data row8 col1\" >21764978.2303</td>\n                        <td id=\"T_5a484_row8_col2\" class=\"data row8 col2\" >4665.2951</td>\n                        <td id=\"T_5a484_row8_col3\" class=\"data row8 col3\" >0.7863</td>\n                        <td id=\"T_5a484_row8_col4\" class=\"data row8 col4\" >0.4908</td>\n                        <td id=\"T_5a484_row8_col5\" class=\"data row8 col5\" >0.5601</td>\n            </tr>\n            <tr>\n                        <th id=\"T_5a484_level0_row9\" class=\"row_heading level0 row9\" >9</th>\n                        <td id=\"T_5a484_row9_col0\" class=\"data row9 col0\" >4292.5562</td>\n                        <td id=\"T_5a484_row9_col1\" class=\"data row9 col1\" >25271178.0599</td>\n                        <td id=\"T_5a484_row9_col2\" class=\"data row9 col2\" >5027.0447</td>\n                        <td id=\"T_5a484_row9_col3\" class=\"data row9 col3\" >0.7594</td>\n                        <td id=\"T_5a484_row9_col4\" class=\"data row9 col4\" >0.5362</td>\n                        <td id=\"T_5a484_row9_col5\" class=\"data row9 col5\" >0.6420</td>\n            </tr>\n            <tr>\n                        <th id=\"T_5a484_level0_row10\" class=\"row_heading level0 row10\" >Mean</th>\n                        <td id=\"T_5a484_row10_col0\" class=\"data row10 col0\" >4346.4286</td>\n                        <td id=\"T_5a484_row10_col1\" class=\"data row10 col1\" >26338975.2200</td>\n                        <td id=\"T_5a484_row10_col2\" class=\"data row10 col2\" >5123.0276</td>\n                        <td id=\"T_5a484_row10_col3\" class=\"data row10 col3\" >0.7349</td>\n                        <td id=\"T_5a484_row10_col4\" class=\"data row10 col4\" >0.5225</td>\n                        <td id=\"T_5a484_row10_col5\" class=\"data row10 col5\" >0.6179</td>\n            </tr>\n            <tr>\n                        <th id=\"T_5a484_level0_row11\" class=\"row_heading level0 row11\" >SD</th>\n                        <td id=\"T_5a484_row11_col0\" class=\"data row11 col0\" >279.8268</td>\n                        <td id=\"T_5a484_row11_col1\" class=\"data row11 col1\" >3110281.6695</td>\n                        <td id=\"T_5a484_row11_col2\" class=\"data row11 col2\" >305.8822</td>\n                        <td id=\"T_5a484_row11_col3\" class=\"data row11 col3\" >0.0451</td>\n                        <td id=\"T_5a484_row11_col4\" class=\"data row11 col4\" >0.0384</td>\n                        <td id=\"T_5a484_row11_col5\" class=\"data row11 col5\" >0.0626</td>\n            </tr>\n    </tbody></table>"
     },
     "metadata": {}
    },
    {
     "output_type": "stream",
     "name": "stdout",
     "text": [
      "AdaBoostRegressor(base_estimator=None, learning_rate=1.0, loss='linear',\n                  n_estimators=50, random_state=123)\n"
     ]
    }
   ],
   "source": [
    "ada = create_model('ada')\n",
    "print(ada)"
   ]
  },
  {
   "cell_type": "code",
   "execution_count": 18,
   "metadata": {},
   "outputs": [
    {
     "output_type": "display_data",
     "data": {
      "text/plain": "<pandas.io.formats.style.Styler at 0x25d6e44c6a0>",
      "text/html": "<style  type=\"text/css\" >\n#T_d720f_row10_col0,#T_d720f_row10_col1,#T_d720f_row10_col2,#T_d720f_row10_col3,#T_d720f_row10_col4,#T_d720f_row10_col5{\n            background:  yellow;\n        }</style><table id=\"T_d720f_\" ><thead>    <tr>        <th class=\"blank level0\" ></th>        <th class=\"col_heading level0 col0\" >MAE</th>        <th class=\"col_heading level0 col1\" >MSE</th>        <th class=\"col_heading level0 col2\" >RMSE</th>        <th class=\"col_heading level0 col3\" >R2</th>        <th class=\"col_heading level0 col4\" >RMSLE</th>        <th class=\"col_heading level0 col5\" >MAPE</th>    </tr></thead><tbody>\n                <tr>\n                        <th id=\"T_d720f_level0_row0\" class=\"row_heading level0 row0\" >0</th>\n                        <td id=\"T_d720f_row0_col0\" class=\"data row0 col0\" >2628.2684</td>\n                        <td id=\"T_d720f_row0_col1\" class=\"data row0 col1\" >16209063.7948</td>\n                        <td id=\"T_d720f_row0_col2\" class=\"data row0 col2\" >4026.0482</td>\n                        <td id=\"T_d720f_row0_col3\" class=\"data row0 col3\" >0.8220</td>\n                        <td id=\"T_d720f_row0_col4\" class=\"data row0 col4\" >0.2553</td>\n                        <td id=\"T_d720f_row0_col5\" class=\"data row0 col5\" >0.2244</td>\n            </tr>\n            <tr>\n                        <th id=\"T_d720f_level0_row1\" class=\"row_heading level0 row1\" >1</th>\n                        <td id=\"T_d720f_row1_col0\" class=\"data row1 col0\" >2740.5318</td>\n                        <td id=\"T_d720f_row1_col1\" class=\"data row1 col1\" >23655434.4913</td>\n                        <td id=\"T_d720f_row1_col2\" class=\"data row1 col2\" >4863.6853</td>\n                        <td id=\"T_d720f_row1_col3\" class=\"data row1 col3\" >0.8187</td>\n                        <td id=\"T_d720f_row1_col4\" class=\"data row1 col4\" >0.2715</td>\n                        <td id=\"T_d720f_row1_col5\" class=\"data row1 col5\" >0.2373</td>\n            </tr>\n            <tr>\n                        <th id=\"T_d720f_level0_row2\" class=\"row_heading level0 row2\" >2</th>\n                        <td id=\"T_d720f_row2_col0\" class=\"data row2 col0\" >2605.9909</td>\n                        <td id=\"T_d720f_row2_col1\" class=\"data row2 col1\" >16883405.3119</td>\n                        <td id=\"T_d720f_row2_col2\" class=\"data row2 col2\" >4108.9421</td>\n                        <td id=\"T_d720f_row2_col3\" class=\"data row2 col3\" >0.8451</td>\n                        <td id=\"T_d720f_row2_col4\" class=\"data row2 col4\" >0.2617</td>\n                        <td id=\"T_d720f_row2_col5\" class=\"data row2 col5\" >0.2352</td>\n            </tr>\n            <tr>\n                        <th id=\"T_d720f_level0_row3\" class=\"row_heading level0 row3\" >3</th>\n                        <td id=\"T_d720f_row3_col0\" class=\"data row3 col0\" >2576.8639</td>\n                        <td id=\"T_d720f_row3_col1\" class=\"data row3 col1\" >14368597.3247</td>\n                        <td id=\"T_d720f_row3_col2\" class=\"data row3 col2\" >3790.5933</td>\n                        <td id=\"T_d720f_row3_col3\" class=\"data row3 col3\" >0.8415</td>\n                        <td id=\"T_d720f_row3_col4\" class=\"data row3 col4\" >0.2688</td>\n                        <td id=\"T_d720f_row3_col5\" class=\"data row3 col5\" >0.2275</td>\n            </tr>\n            <tr>\n                        <th id=\"T_d720f_level0_row4\" class=\"row_heading level0 row4\" >4</th>\n                        <td id=\"T_d720f_row4_col0\" class=\"data row4 col0\" >2392.3346</td>\n                        <td id=\"T_d720f_row4_col1\" class=\"data row4 col1\" >13555556.2417</td>\n                        <td id=\"T_d720f_row4_col2\" class=\"data row4 col2\" >3681.7871</td>\n                        <td id=\"T_d720f_row4_col3\" class=\"data row4 col3\" >0.8309</td>\n                        <td id=\"T_d720f_row4_col4\" class=\"data row4 col4\" >0.2670</td>\n                        <td id=\"T_d720f_row4_col5\" class=\"data row4 col5\" >0.2225</td>\n            </tr>\n            <tr>\n                        <th id=\"T_d720f_level0_row5\" class=\"row_heading level0 row5\" >5</th>\n                        <td id=\"T_d720f_row5_col0\" class=\"data row5 col0\" >2538.7416</td>\n                        <td id=\"T_d720f_row5_col1\" class=\"data row5 col1\" >20724600.2592</td>\n                        <td id=\"T_d720f_row5_col2\" class=\"data row5 col2\" >4552.4280</td>\n                        <td id=\"T_d720f_row5_col3\" class=\"data row5 col3\" >0.8231</td>\n                        <td id=\"T_d720f_row5_col4\" class=\"data row5 col4\" >0.2644</td>\n                        <td id=\"T_d720f_row5_col5\" class=\"data row5 col5\" >0.2260</td>\n            </tr>\n            <tr>\n                        <th id=\"T_d720f_level0_row6\" class=\"row_heading level0 row6\" >6</th>\n                        <td id=\"T_d720f_row6_col0\" class=\"data row6 col0\" >2720.2195</td>\n                        <td id=\"T_d720f_row6_col1\" class=\"data row6 col1\" >19796302.1522</td>\n                        <td id=\"T_d720f_row6_col2\" class=\"data row6 col2\" >4449.3036</td>\n                        <td id=\"T_d720f_row6_col3\" class=\"data row6 col3\" >0.8140</td>\n                        <td id=\"T_d720f_row6_col4\" class=\"data row6 col4\" >0.2644</td>\n                        <td id=\"T_d720f_row6_col5\" class=\"data row6 col5\" >0.2280</td>\n            </tr>\n            <tr>\n                        <th id=\"T_d720f_level0_row7\" class=\"row_heading level0 row7\" >7</th>\n                        <td id=\"T_d720f_row7_col0\" class=\"data row7 col0\" >2707.6016</td>\n                        <td id=\"T_d720f_row7_col1\" class=\"data row7 col1\" >17084596.1502</td>\n                        <td id=\"T_d720f_row7_col2\" class=\"data row7 col2\" >4133.3517</td>\n                        <td id=\"T_d720f_row7_col3\" class=\"data row7 col3\" >0.7839</td>\n                        <td id=\"T_d720f_row7_col4\" class=\"data row7 col4\" >0.2743</td>\n                        <td id=\"T_d720f_row7_col5\" class=\"data row7 col5\" >0.2475</td>\n            </tr>\n            <tr>\n                        <th id=\"T_d720f_level0_row8\" class=\"row_heading level0 row8\" >8</th>\n                        <td id=\"T_d720f_row8_col0\" class=\"data row8 col0\" >2444.0262</td>\n                        <td id=\"T_d720f_row8_col1\" class=\"data row8 col1\" >16340453.5625</td>\n                        <td id=\"T_d720f_row8_col2\" class=\"data row8 col2\" >4042.3327</td>\n                        <td id=\"T_d720f_row8_col3\" class=\"data row8 col3\" >0.8395</td>\n                        <td id=\"T_d720f_row8_col4\" class=\"data row8 col4\" >0.2623</td>\n                        <td id=\"T_d720f_row8_col5\" class=\"data row8 col5\" >0.2199</td>\n            </tr>\n            <tr>\n                        <th id=\"T_d720f_level0_row9\" class=\"row_heading level0 row9\" >9</th>\n                        <td id=\"T_d720f_row9_col0\" class=\"data row9 col0\" >2547.2185</td>\n                        <td id=\"T_d720f_row9_col1\" class=\"data row9 col1\" >19272925.6516</td>\n                        <td id=\"T_d720f_row9_col2\" class=\"data row9 col2\" >4390.0940</td>\n                        <td id=\"T_d720f_row9_col3\" class=\"data row9 col3\" >0.8165</td>\n                        <td id=\"T_d720f_row9_col4\" class=\"data row9 col4\" >0.2683</td>\n                        <td id=\"T_d720f_row9_col5\" class=\"data row9 col5\" >0.2248</td>\n            </tr>\n            <tr>\n                        <th id=\"T_d720f_level0_row10\" class=\"row_heading level0 row10\" >Mean</th>\n                        <td id=\"T_d720f_row10_col0\" class=\"data row10 col0\" >2590.1797</td>\n                        <td id=\"T_d720f_row10_col1\" class=\"data row10 col1\" >17789093.4940</td>\n                        <td id=\"T_d720f_row10_col2\" class=\"data row10 col2\" >4203.8566</td>\n                        <td id=\"T_d720f_row10_col3\" class=\"data row10 col3\" >0.8235</td>\n                        <td id=\"T_d720f_row10_col4\" class=\"data row10 col4\" >0.2658</td>\n                        <td id=\"T_d720f_row10_col5\" class=\"data row10 col5\" >0.2293</td>\n            </tr>\n            <tr>\n                        <th id=\"T_d720f_level0_row11\" class=\"row_heading level0 row11\" >SD</th>\n                        <td id=\"T_d720f_row11_col0\" class=\"data row11 col0\" >109.6253</td>\n                        <td id=\"T_d720f_row11_col1\" class=\"data row11 col1\" >2911976.5098</td>\n                        <td id=\"T_d720f_row11_col2\" class=\"data row11 col2\" >341.5894</td>\n                        <td id=\"T_d720f_row11_col3\" class=\"data row11 col3\" >0.0168</td>\n                        <td id=\"T_d720f_row11_col4\" class=\"data row11 col4\" >0.0051</td>\n                        <td id=\"T_d720f_row11_col5\" class=\"data row11 col5\" >0.0079</td>\n            </tr>\n    </tbody></table>"
     },
     "metadata": {}
    },
    {
     "output_type": "stream",
     "name": "stdout",
     "text": [
      "AdaBoostRegressor(base_estimator=None, learning_rate=0.05, loss='linear',\n                  n_estimators=90, random_state=123)\n"
     ]
    }
   ],
   "source": [
    "tuned_ada = tune_model(ada)\n",
    "print(tuned_ada)"
   ]
  },
  {
   "cell_type": "code",
   "execution_count": 19,
   "metadata": {},
   "outputs": [
    {
     "output_type": "display_data",
     "data": {
      "text/plain": "<pandas.io.formats.style.Styler at 0x25d6e52efd0>",
      "text/html": "<style  type=\"text/css\" >\n</style><table id=\"T_30091_\" ><thead>    <tr>        <th class=\"blank level0\" ></th>        <th class=\"col_heading level0 col0\" >Model</th>        <th class=\"col_heading level0 col1\" >MAE</th>        <th class=\"col_heading level0 col2\" >MSE</th>        <th class=\"col_heading level0 col3\" >RMSE</th>        <th class=\"col_heading level0 col4\" >R2</th>        <th class=\"col_heading level0 col5\" >RMSLE</th>        <th class=\"col_heading level0 col6\" >MAPE</th>    </tr></thead><tbody>\n                <tr>\n                        <th id=\"T_30091_level0_row0\" class=\"row_heading level0 row0\" >0</th>\n                        <td id=\"T_30091_row0_col0\" class=\"data row0 col0\" >AdaBoost Regressor</td>\n                        <td id=\"T_30091_row0_col1\" class=\"data row0 col1\" >2742.6424</td>\n                        <td id=\"T_30091_row0_col2\" class=\"data row0 col2\" >19003838.2784</td>\n                        <td id=\"T_30091_row0_col3\" class=\"data row0 col3\" >4359.3392</td>\n                        <td id=\"T_30091_row0_col4\" class=\"data row0 col4\" >0.8267</td>\n                        <td id=\"T_30091_row0_col5\" class=\"data row0 col5\" >0.2711</td>\n                        <td id=\"T_30091_row0_col6\" class=\"data row0 col6\" >0.2329</td>\n            </tr>\n    </tbody></table>"
     },
     "metadata": {}
    },
    {
     "output_type": "execute_result",
     "data": {
      "text/plain": [
       "      Carat Weight  Cut_Fair  Cut_Good  Cut_Ideal  Cut_Signature-Ideal  \\\n",
       "0        -0.354048       0.0       0.0        1.0                  0.0   \n",
       "1        -0.396450       0.0       0.0        1.0                  0.0   \n",
       "2        -0.163237       0.0       0.0        0.0                  0.0   \n",
       "3        -1.138493       0.0       0.0        1.0                  0.0   \n",
       "4         1.914484       0.0       0.0        0.0                  0.0   \n",
       "...            ...       ...       ...        ...                  ...   \n",
       "1616     -0.226840       0.0       0.0        1.0                  0.0   \n",
       "1617     -1.053688       0.0       0.0        1.0                  0.0   \n",
       "1618      0.387995       0.0       0.0        0.0                  0.0   \n",
       "1619     -0.354048       0.0       0.0        1.0                  0.0   \n",
       "1620      1.554063       0.0       0.0        0.0                  1.0   \n",
       "\n",
       "      Cut_Very Good  Color_D  Color_E  Color_F  Color_G  ...  Polish_G  \\\n",
       "0               0.0      0.0      1.0      0.0      0.0  ...       0.0   \n",
       "1               0.0      0.0      0.0      0.0      1.0  ...       0.0   \n",
       "2               1.0      0.0      0.0      0.0      1.0  ...       0.0   \n",
       "3               0.0      0.0      0.0      0.0      1.0  ...       0.0   \n",
       "4               1.0      0.0      0.0      0.0      0.0  ...       0.0   \n",
       "...             ...      ...      ...      ...      ...  ...       ...   \n",
       "1616            0.0      0.0      0.0      1.0      0.0  ...       0.0   \n",
       "1617            0.0      0.0      1.0      0.0      0.0  ...       1.0   \n",
       "1618            1.0      0.0      0.0      0.0      0.0  ...       0.0   \n",
       "1619            0.0      0.0      0.0      0.0      0.0  ...       0.0   \n",
       "1620            0.0      0.0      0.0      0.0      0.0  ...       0.0   \n",
       "\n",
       "      Polish_ID  Polish_VG  Symmetry_EX  Symmetry_G  Symmetry_ID  Symmetry_VG  \\\n",
       "0           0.0        0.0          1.0         0.0          0.0          0.0   \n",
       "1           0.0        0.0          0.0         0.0          0.0          1.0   \n",
       "2           0.0        1.0          0.0         0.0          0.0          1.0   \n",
       "3           0.0        1.0          1.0         0.0          0.0          0.0   \n",
       "4           0.0        1.0          0.0         0.0          0.0          1.0   \n",
       "...         ...        ...          ...         ...          ...          ...   \n",
       "1616        0.0        0.0          1.0         0.0          0.0          0.0   \n",
       "1617        0.0        0.0          1.0         0.0          0.0          0.0   \n",
       "1618        0.0        1.0          0.0         0.0          0.0          1.0   \n",
       "1619        0.0        0.0          0.0         0.0          0.0          1.0   \n",
       "1620        1.0        0.0          0.0         0.0          1.0          0.0   \n",
       "\n",
       "      Report_GIA    Price         Label  \n",
       "0            1.0   7059.0   7315.943631  \n",
       "1            1.0   5809.0   7315.943631  \n",
       "2            1.0  10641.0   8641.463847  \n",
       "3            1.0   2871.0   4024.857724  \n",
       "4            1.0  21706.0  27516.784226  \n",
       "...          ...      ...           ...  \n",
       "1616         1.0  12906.0   7350.228758  \n",
       "1617         1.0   3235.0   4024.857724  \n",
       "1618         1.0   9058.0  12748.734375  \n",
       "1619         1.0   5091.0   7315.943631  \n",
       "1620         0.0  25354.0  27218.721910  \n",
       "\n",
       "[1621 rows x 30 columns]"
      ],
      "text/html": "<div>\n<style scoped>\n    .dataframe tbody tr th:only-of-type {\n        vertical-align: middle;\n    }\n\n    .dataframe tbody tr th {\n        vertical-align: top;\n    }\n\n    .dataframe thead th {\n        text-align: right;\n    }\n</style>\n<table border=\"1\" class=\"dataframe\">\n  <thead>\n    <tr style=\"text-align: right;\">\n      <th></th>\n      <th>Carat Weight</th>\n      <th>Cut_Fair</th>\n      <th>Cut_Good</th>\n      <th>Cut_Ideal</th>\n      <th>Cut_Signature-Ideal</th>\n      <th>Cut_Very Good</th>\n      <th>Color_D</th>\n      <th>Color_E</th>\n      <th>Color_F</th>\n      <th>Color_G</th>\n      <th>...</th>\n      <th>Polish_G</th>\n      <th>Polish_ID</th>\n      <th>Polish_VG</th>\n      <th>Symmetry_EX</th>\n      <th>Symmetry_G</th>\n      <th>Symmetry_ID</th>\n      <th>Symmetry_VG</th>\n      <th>Report_GIA</th>\n      <th>Price</th>\n      <th>Label</th>\n    </tr>\n  </thead>\n  <tbody>\n    <tr>\n      <th>0</th>\n      <td>-0.354048</td>\n      <td>0.0</td>\n      <td>0.0</td>\n      <td>1.0</td>\n      <td>0.0</td>\n      <td>0.0</td>\n      <td>0.0</td>\n      <td>1.0</td>\n      <td>0.0</td>\n      <td>0.0</td>\n      <td>...</td>\n      <td>0.0</td>\n      <td>0.0</td>\n      <td>0.0</td>\n      <td>1.0</td>\n      <td>0.0</td>\n      <td>0.0</td>\n      <td>0.0</td>\n      <td>1.0</td>\n      <td>7059.0</td>\n      <td>7315.943631</td>\n    </tr>\n    <tr>\n      <th>1</th>\n      <td>-0.396450</td>\n      <td>0.0</td>\n      <td>0.0</td>\n      <td>1.0</td>\n      <td>0.0</td>\n      <td>0.0</td>\n      <td>0.0</td>\n      <td>0.0</td>\n      <td>0.0</td>\n      <td>1.0</td>\n      <td>...</td>\n      <td>0.0</td>\n      <td>0.0</td>\n      <td>0.0</td>\n      <td>0.0</td>\n      <td>0.0</td>\n      <td>0.0</td>\n      <td>1.0</td>\n      <td>1.0</td>\n      <td>5809.0</td>\n      <td>7315.943631</td>\n    </tr>\n    <tr>\n      <th>2</th>\n      <td>-0.163237</td>\n      <td>0.0</td>\n      <td>0.0</td>\n      <td>0.0</td>\n      <td>0.0</td>\n      <td>1.0</td>\n      <td>0.0</td>\n      <td>0.0</td>\n      <td>0.0</td>\n      <td>1.0</td>\n      <td>...</td>\n      <td>0.0</td>\n      <td>0.0</td>\n      <td>1.0</td>\n      <td>0.0</td>\n      <td>0.0</td>\n      <td>0.0</td>\n      <td>1.0</td>\n      <td>1.0</td>\n      <td>10641.0</td>\n      <td>8641.463847</td>\n    </tr>\n    <tr>\n      <th>3</th>\n      <td>-1.138493</td>\n      <td>0.0</td>\n      <td>0.0</td>\n      <td>1.0</td>\n      <td>0.0</td>\n      <td>0.0</td>\n      <td>0.0</td>\n      <td>0.0</td>\n      <td>0.0</td>\n      <td>1.0</td>\n      <td>...</td>\n      <td>0.0</td>\n      <td>0.0</td>\n      <td>1.0</td>\n      <td>1.0</td>\n      <td>0.0</td>\n      <td>0.0</td>\n      <td>0.0</td>\n      <td>1.0</td>\n      <td>2871.0</td>\n      <td>4024.857724</td>\n    </tr>\n    <tr>\n      <th>4</th>\n      <td>1.914484</td>\n      <td>0.0</td>\n      <td>0.0</td>\n      <td>0.0</td>\n      <td>0.0</td>\n      <td>1.0</td>\n      <td>0.0</td>\n      <td>0.0</td>\n      <td>0.0</td>\n      <td>0.0</td>\n      <td>...</td>\n      <td>0.0</td>\n      <td>0.0</td>\n      <td>1.0</td>\n      <td>0.0</td>\n      <td>0.0</td>\n      <td>0.0</td>\n      <td>1.0</td>\n      <td>1.0</td>\n      <td>21706.0</td>\n      <td>27516.784226</td>\n    </tr>\n    <tr>\n      <th>...</th>\n      <td>...</td>\n      <td>...</td>\n      <td>...</td>\n      <td>...</td>\n      <td>...</td>\n      <td>...</td>\n      <td>...</td>\n      <td>...</td>\n      <td>...</td>\n      <td>...</td>\n      <td>...</td>\n      <td>...</td>\n      <td>...</td>\n      <td>...</td>\n      <td>...</td>\n      <td>...</td>\n      <td>...</td>\n      <td>...</td>\n      <td>...</td>\n      <td>...</td>\n      <td>...</td>\n    </tr>\n    <tr>\n      <th>1616</th>\n      <td>-0.226840</td>\n      <td>0.0</td>\n      <td>0.0</td>\n      <td>1.0</td>\n      <td>0.0</td>\n      <td>0.0</td>\n      <td>0.0</td>\n      <td>0.0</td>\n      <td>1.0</td>\n      <td>0.0</td>\n      <td>...</td>\n      <td>0.0</td>\n      <td>0.0</td>\n      <td>0.0</td>\n      <td>1.0</td>\n      <td>0.0</td>\n      <td>0.0</td>\n      <td>0.0</td>\n      <td>1.0</td>\n      <td>12906.0</td>\n      <td>7350.228758</td>\n    </tr>\n    <tr>\n      <th>1617</th>\n      <td>-1.053688</td>\n      <td>0.0</td>\n      <td>0.0</td>\n      <td>1.0</td>\n      <td>0.0</td>\n      <td>0.0</td>\n      <td>0.0</td>\n      <td>1.0</td>\n      <td>0.0</td>\n      <td>0.0</td>\n      <td>...</td>\n      <td>1.0</td>\n      <td>0.0</td>\n      <td>0.0</td>\n      <td>1.0</td>\n      <td>0.0</td>\n      <td>0.0</td>\n      <td>0.0</td>\n      <td>1.0</td>\n      <td>3235.0</td>\n      <td>4024.857724</td>\n    </tr>\n    <tr>\n      <th>1618</th>\n      <td>0.387995</td>\n      <td>0.0</td>\n      <td>0.0</td>\n      <td>0.0</td>\n      <td>0.0</td>\n      <td>1.0</td>\n      <td>0.0</td>\n      <td>0.0</td>\n      <td>0.0</td>\n      <td>0.0</td>\n      <td>...</td>\n      <td>0.0</td>\n      <td>0.0</td>\n      <td>1.0</td>\n      <td>0.0</td>\n      <td>0.0</td>\n      <td>0.0</td>\n      <td>1.0</td>\n      <td>1.0</td>\n      <td>9058.0</td>\n      <td>12748.734375</td>\n    </tr>\n    <tr>\n      <th>1619</th>\n      <td>-0.354048</td>\n      <td>0.0</td>\n      <td>0.0</td>\n      <td>1.0</td>\n      <td>0.0</td>\n      <td>0.0</td>\n      <td>0.0</td>\n      <td>0.0</td>\n      <td>0.0</td>\n      <td>0.0</td>\n      <td>...</td>\n      <td>0.0</td>\n      <td>0.0</td>\n      <td>0.0</td>\n      <td>0.0</td>\n      <td>0.0</td>\n      <td>0.0</td>\n      <td>1.0</td>\n      <td>1.0</td>\n      <td>5091.0</td>\n      <td>7315.943631</td>\n    </tr>\n    <tr>\n      <th>1620</th>\n      <td>1.554063</td>\n      <td>0.0</td>\n      <td>0.0</td>\n      <td>0.0</td>\n      <td>1.0</td>\n      <td>0.0</td>\n      <td>0.0</td>\n      <td>0.0</td>\n      <td>0.0</td>\n      <td>0.0</td>\n      <td>...</td>\n      <td>0.0</td>\n      <td>1.0</td>\n      <td>0.0</td>\n      <td>0.0</td>\n      <td>0.0</td>\n      <td>1.0</td>\n      <td>0.0</td>\n      <td>0.0</td>\n      <td>25354.0</td>\n      <td>27218.721910</td>\n    </tr>\n  </tbody>\n</table>\n<p>1621 rows × 30 columns</p>\n</div>"
     },
     "metadata": {},
     "execution_count": 19
    }
   ],
   "source": [
    "predict_model(tuned_ada)"
   ]
  },
  {
   "cell_type": "code",
   "execution_count": 20,
   "metadata": {},
   "outputs": [],
   "source": [
    "\n",
    "final_ada = finalize_model(tuned_ada)"
   ]
  },
  {
   "cell_type": "code",
   "execution_count": 21,
   "metadata": {},
   "outputs": [
    {
     "output_type": "execute_result",
     "data": {
      "text/plain": [
       "   Carat Weight        Cut Color Clarity Polish Symmetry Report  Price  \\\n",
       "0          1.53      Ideal     E     SI1     ID       ID   AGSL  12791   \n",
       "1          1.50       Fair     F     SI1     VG       VG    GIA  10450   \n",
       "2          1.01       Good     E     SI1      G        G    GIA   5161   \n",
       "3          2.51  Very Good     G     VS2     VG       VG    GIA  34361   \n",
       "4          1.01       Good     I     SI1     VG       VG    GIA   4238   \n",
       "\n",
       "          Label  \n",
       "0  12888.906767  \n",
       "1  12888.906767  \n",
       "2   7172.492974  \n",
       "3  30548.220465  \n",
       "4   7172.492974  "
      ],
      "text/html": "<div>\n<style scoped>\n    .dataframe tbody tr th:only-of-type {\n        vertical-align: middle;\n    }\n\n    .dataframe tbody tr th {\n        vertical-align: top;\n    }\n\n    .dataframe thead th {\n        text-align: right;\n    }\n</style>\n<table border=\"1\" class=\"dataframe\">\n  <thead>\n    <tr style=\"text-align: right;\">\n      <th></th>\n      <th>Carat Weight</th>\n      <th>Cut</th>\n      <th>Color</th>\n      <th>Clarity</th>\n      <th>Polish</th>\n      <th>Symmetry</th>\n      <th>Report</th>\n      <th>Price</th>\n      <th>Label</th>\n    </tr>\n  </thead>\n  <tbody>\n    <tr>\n      <th>0</th>\n      <td>1.53</td>\n      <td>Ideal</td>\n      <td>E</td>\n      <td>SI1</td>\n      <td>ID</td>\n      <td>ID</td>\n      <td>AGSL</td>\n      <td>12791</td>\n      <td>12888.906767</td>\n    </tr>\n    <tr>\n      <th>1</th>\n      <td>1.50</td>\n      <td>Fair</td>\n      <td>F</td>\n      <td>SI1</td>\n      <td>VG</td>\n      <td>VG</td>\n      <td>GIA</td>\n      <td>10450</td>\n      <td>12888.906767</td>\n    </tr>\n    <tr>\n      <th>2</th>\n      <td>1.01</td>\n      <td>Good</td>\n      <td>E</td>\n      <td>SI1</td>\n      <td>G</td>\n      <td>G</td>\n      <td>GIA</td>\n      <td>5161</td>\n      <td>7172.492974</td>\n    </tr>\n    <tr>\n      <th>3</th>\n      <td>2.51</td>\n      <td>Very Good</td>\n      <td>G</td>\n      <td>VS2</td>\n      <td>VG</td>\n      <td>VG</td>\n      <td>GIA</td>\n      <td>34361</td>\n      <td>30548.220465</td>\n    </tr>\n    <tr>\n      <th>4</th>\n      <td>1.01</td>\n      <td>Good</td>\n      <td>I</td>\n      <td>SI1</td>\n      <td>VG</td>\n      <td>VG</td>\n      <td>GIA</td>\n      <td>4238</td>\n      <td>7172.492974</td>\n    </tr>\n  </tbody>\n</table>\n</div>"
     },
     "metadata": {},
     "execution_count": 21
    }
   ],
   "source": [
    "unseen_predictions = predict_model(final_ada, data=data_unseen)\n",
    "unseen_predictions.head()"
   ]
  },
  {
   "cell_type": "code",
   "execution_count": 22,
   "metadata": {},
   "outputs": [
    {
     "output_type": "execute_result",
     "data": {
      "text/plain": [
       "0.8285"
      ]
     },
     "metadata": {},
     "execution_count": 22
    }
   ],
   "source": [
    "from pycaret.utils import check_metric\n",
    "check_metric(unseen_predictions.Price, unseen_predictions.Label, 'R2')"
   ]
  },
  {
   "cell_type": "code",
   "execution_count": 24,
   "metadata": {},
   "outputs": [
    {
     "output_type": "stream",
     "name": "stdout",
     "text": [
      "Transformation Pipeline and Model Succesfully Saved\n"
     ]
    },
    {
     "output_type": "execute_result",
     "data": {
      "text/plain": [
       "(Pipeline(memory=None,\n",
       "          steps=[('dtypes',\n",
       "                  DataTypes_Auto_infer(categorical_features=[],\n",
       "                                       display_types=True, features_todrop=[],\n",
       "                                       id_columns=[], ml_usecase='regression',\n",
       "                                       numerical_features=[], target='Price',\n",
       "                                       time_features=[])),\n",
       "                 ('imputer',\n",
       "                  Simple_Imputer(categorical_strategy='not_available',\n",
       "                                 fill_value_categorical=None,\n",
       "                                 fill_value_numerical=None,\n",
       "                                 numeric_strategy='...\n",
       "                 ('dummy', Dummify(target='Price')),\n",
       "                 ('fix_perfect', Remove_100(target='Price')),\n",
       "                 ('clean_names', Clean_Colum_Names()),\n",
       "                 ('feature_select', 'passthrough'), ('fix_multi', 'passthrough'),\n",
       "                 ('dfs', 'passthrough'), ('pca', 'passthrough'),\n",
       "                 ['trained_model',\n",
       "                  AdaBoostRegressor(base_estimator=None, learning_rate=0.05,\n",
       "                                    loss='linear', n_estimators=90,\n",
       "                                    random_state=123)]],\n",
       "          verbose=False),\n",
       " 'Final ada Model 28Mar2021.pkl')"
      ]
     },
     "metadata": {},
     "execution_count": 24
    }
   ],
   "source": [
    "save_model(final_ada,'Final ada Model 28Mar2021')"
   ]
  },
  {
   "cell_type": "code",
   "execution_count": null,
   "metadata": {},
   "outputs": [],
   "source": []
  }
 ]
}