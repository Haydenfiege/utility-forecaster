{
 "metadata": {
  "language_info": {
   "codemirror_mode": {
    "name": "ipython",
    "version": 3
   },
   "file_extension": ".py",
   "mimetype": "text/x-python",
   "name": "python",
   "nbconvert_exporter": "python",
   "pygments_lexer": "ipython3",
   "version": "3.8.8"
  },
  "orig_nbformat": 2,
  "kernelspec": {
   "name": "python3",
   "display_name": "Python 3.8.8 64-bit ('venv': venv)",
   "metadata": {
    "interpreter": {
     "hash": "0bd3c137db0ad6f150572af135d32e9c7ca80234a5f4368600668cb8b6eecf93"
    }
   }
  }
 },
 "nbformat": 4,
 "nbformat_minor": 2,
 "cells": [
  {
   "source": [
    "Example workflow using pycaret, and Jimmy's \"utility_forecast_analysis.ipynb\"\n",
    "\n",
    "Author: Hayden Fiege\n",
    "Date: May 2 2021"
   ],
   "cell_type": "markdown",
   "metadata": {}
  },
  {
   "cell_type": "code",
   "execution_count": 23,
   "metadata": {},
   "outputs": [],
   "source": [
    "import pandas as pd\n",
    "import numpy as np\n",
    "from math import log10\n",
    "import sys\n",
    "import seaborn as sns\n",
    "from datetime import datetime\n",
    "\n",
    "\n",
    "\n",
    "from functools import reduce\n",
    "import matplotlib.pyplot as plt\n",
    "%matplotlib notebook\n",
    "from weather_scrape import *\n",
    "from electricity_scrape import * "
   ]
  },
  {
   "source": [
    "\n",
    "Import weather_scrape.py and electricity_scrape.py files containing functions to scrape data"
   ],
   "cell_type": "markdown",
   "metadata": {}
  },
  {
   "cell_type": "code",
   "execution_count": 2,
   "metadata": {},
   "outputs": [
    {
     "output_type": "stream",
     "name": "stdout",
     "text": [
      "Getting data for YYC, station ID 50430\n",
      "downloading daily data for year 2000\n",
      "data for year 2000 downloaded\n",
      "sleep for 5 seconds\n",
      "downloading daily data for year 2001\n",
      "data for year 2001 downloaded\n",
      "sleep for 7 seconds\n",
      "downloading daily data for year 2002\n",
      "data for year 2002 downloaded\n",
      "sleep for 8 seconds\n",
      "downloading daily data for year 2003\n",
      "data for year 2003 downloaded\n",
      "sleep for 3 seconds\n",
      "downloading daily data for year 2004\n",
      "data for year 2004 downloaded\n",
      "sleep for 9 seconds\n",
      "downloading daily data for year 2005\n",
      "data for year 2005 downloaded\n",
      "sleep for 7 seconds\n",
      "downloading daily data for year 2006\n",
      "data for year 2006 downloaded\n",
      "sleep for 9 seconds\n",
      "downloading daily data for year 2007\n",
      "data for year 2007 downloaded\n",
      "sleep for 3 seconds\n",
      "downloading daily data for year 2008\n",
      "data for year 2008 downloaded\n",
      "sleep for 5 seconds\n",
      "downloading daily data for year 2009\n",
      "data for year 2009 downloaded\n",
      "sleep for 7 seconds\n",
      "downloading daily data for year 2010\n",
      "data for year 2010 downloaded\n",
      "sleep for 3 seconds\n",
      "downloading daily data for year 2011\n",
      "data for year 2011 downloaded\n",
      "sleep for 8 seconds\n",
      "downloading daily data for year 2012\n",
      "data for year 2012 downloaded\n",
      "sleep for 4 seconds\n",
      "downloading daily data for year 2013\n",
      "data for year 2013 downloaded\n",
      "sleep for 5 seconds\n",
      "downloading daily data for year 2014\n",
      "data for year 2014 downloaded\n",
      "sleep for 9 seconds\n",
      "downloading daily data for year 2015\n",
      "data for year 2015 downloaded\n",
      "sleep for 6 seconds\n",
      "downloading daily data for year 2016\n",
      "data for year 2016 downloaded\n",
      "sleep for 4 seconds\n",
      "downloading daily data for year 2017\n",
      "data for year 2017 downloaded\n",
      "sleep for 3 seconds\n",
      "downloading daily data for year 2018\n",
      "data for year 2018 downloaded\n",
      "sleep for 5 seconds\n",
      "downloading daily data for year 2019\n",
      "data for year 2019 downloaded\n",
      "sleep for 4 seconds\n",
      "downloading daily data for year 2020\n",
      "data for year 2020 downloaded\n",
      "sleep for 6 seconds\n",
      "c:\\Users\\Hayden\\projects\\py\\utility-forecaster\\venv\\lib\\site-packages\\pandas\\core\\frame.py:3188: SettingWithCopyWarning: \n",
      "A value is trying to be set on a copy of a slice from a DataFrame.\n",
      "Try using .loc[row_indexer,col_indexer] = value instead\n",
      "\n",
      "See the caveats in the documentation: https://pandas.pydata.org/pandas-docs/stable/user_guide/indexing.html#returning-a-view-versus-a-copy\n",
      "  self[k1] = value[k2]\n",
      "Getting data for YEG, station ID 27214\n",
      "downloading daily data for year 2000\n",
      "data for year 2000 downloaded\n",
      "sleep for 5 seconds\n",
      "downloading daily data for year 2001\n",
      "data for year 2001 downloaded\n",
      "sleep for 8 seconds\n",
      "downloading daily data for year 2002\n",
      "data for year 2002 downloaded\n",
      "sleep for 7 seconds\n",
      "downloading daily data for year 2003\n",
      "data for year 2003 downloaded\n",
      "sleep for 7 seconds\n",
      "downloading daily data for year 2004\n",
      "data for year 2004 downloaded\n",
      "sleep for 8 seconds\n",
      "downloading daily data for year 2005\n",
      "data for year 2005 downloaded\n",
      "sleep for 5 seconds\n",
      "downloading daily data for year 2006\n",
      "data for year 2006 downloaded\n",
      "sleep for 6 seconds\n",
      "downloading daily data for year 2007\n",
      "data for year 2007 downloaded\n",
      "sleep for 8 seconds\n",
      "downloading daily data for year 2008\n",
      "data for year 2008 downloaded\n",
      "sleep for 3 seconds\n",
      "downloading daily data for year 2009\n",
      "data for year 2009 downloaded\n",
      "sleep for 5 seconds\n",
      "downloading daily data for year 2010\n",
      "data for year 2010 downloaded\n",
      "sleep for 8 seconds\n",
      "downloading daily data for year 2011\n",
      "data for year 2011 downloaded\n",
      "sleep for 4 seconds\n",
      "downloading daily data for year 2012\n",
      "data for year 2012 downloaded\n",
      "sleep for 8 seconds\n",
      "downloading daily data for year 2013\n",
      "data for year 2013 downloaded\n",
      "sleep for 8 seconds\n",
      "downloading daily data for year 2014\n",
      "data for year 2014 downloaded\n",
      "sleep for 5 seconds\n",
      "downloading daily data for year 2015\n",
      "data for year 2015 downloaded\n",
      "sleep for 5 seconds\n",
      "downloading daily data for year 2016\n",
      "data for year 2016 downloaded\n",
      "sleep for 4 seconds\n",
      "downloading daily data for year 2017\n",
      "data for year 2017 downloaded\n",
      "sleep for 4 seconds\n",
      "downloading daily data for year 2018\n",
      "data for year 2018 downloaded\n",
      "sleep for 3 seconds\n",
      "downloading daily data for year 2019\n",
      "data for year 2019 downloaded\n",
      "sleep for 8 seconds\n",
      "downloading daily data for year 2020\n",
      "data for year 2020 downloaded\n",
      "sleep for 5 seconds\n",
      "Getting data for YMM, station ID 49490\n",
      "downloading daily data for year 2000\n",
      "data for year 2000 downloaded\n",
      "sleep for 7 seconds\n",
      "downloading daily data for year 2001\n",
      "data for year 2001 downloaded\n",
      "sleep for 3 seconds\n",
      "downloading daily data for year 2002\n",
      "data for year 2002 downloaded\n",
      "sleep for 6 seconds\n",
      "downloading daily data for year 2003\n",
      "data for year 2003 downloaded\n",
      "sleep for 8 seconds\n",
      "downloading daily data for year 2004\n",
      "data for year 2004 downloaded\n",
      "sleep for 3 seconds\n",
      "downloading daily data for year 2005\n",
      "data for year 2005 downloaded\n",
      "sleep for 9 seconds\n",
      "downloading daily data for year 2006\n",
      "data for year 2006 downloaded\n",
      "sleep for 5 seconds\n",
      "downloading daily data for year 2007\n",
      "data for year 2007 downloaded\n",
      "sleep for 5 seconds\n",
      "downloading daily data for year 2008\n",
      "data for year 2008 downloaded\n",
      "sleep for 5 seconds\n",
      "downloading daily data for year 2009\n",
      "data for year 2009 downloaded\n",
      "sleep for 5 seconds\n",
      "downloading daily data for year 2010\n",
      "data for year 2010 downloaded\n",
      "sleep for 3 seconds\n",
      "downloading daily data for year 2011\n",
      "data for year 2011 downloaded\n",
      "sleep for 8 seconds\n",
      "downloading daily data for year 2012\n",
      "data for year 2012 downloaded\n",
      "sleep for 7 seconds\n",
      "downloading daily data for year 2013\n",
      "data for year 2013 downloaded\n",
      "sleep for 9 seconds\n",
      "downloading daily data for year 2014\n",
      "data for year 2014 downloaded\n",
      "sleep for 6 seconds\n",
      "downloading daily data for year 2015\n",
      "data for year 2015 downloaded\n",
      "sleep for 9 seconds\n",
      "downloading daily data for year 2016\n",
      "data for year 2016 downloaded\n",
      "sleep for 7 seconds\n",
      "downloading daily data for year 2017\n",
      "data for year 2017 downloaded\n",
      "sleep for 7 seconds\n",
      "downloading daily data for year 2018\n",
      "data for year 2018 downloaded\n",
      "sleep for 7 seconds\n",
      "downloading daily data for year 2019\n",
      "data for year 2019 downloaded\n",
      "sleep for 5 seconds\n",
      "downloading daily data for year 2020\n",
      "data for year 2020 downloaded\n",
      "sleep for 7 seconds\n"
     ]
    }
   ],
   "source": [
    "# weather params\n",
    "city = 'yyc'\n",
    "startdate = '2000-01-01'\n",
    "enddate = '2020-12-31'\n",
    "dateformat = '%Y-%m-%d'\n",
    "contenttype = 'html'\n",
    "#get raw data into pd dataframe, timeframe = 2 is daily data\n",
    "weather_yyc_df  =  weather_dl_range(startdate, enddate, dateformat, city, 2, clean=True)\n",
    "city = 'yeg'\n",
    "weather_yeg_df  =  weather_dl_range(startdate, enddate, dateformat, city, 2, clean=True)\n",
    "city = 'ymm'\n",
    "weather_ymm_df  =  weather_dl_range(startdate, enddate, dateformat, city, 2, clean=True)"
   ]
  },
  {
   "cell_type": "code",
   "execution_count": 3,
   "metadata": {},
   "outputs": [],
   "source": [
    "weather_yyc_df['city'] = 'yyc'\n",
    "weather_yeg_df['city'] = 'yeg'\n",
    "weather_ymm_df['city'] = 'ymm'\n"
   ]
  },
  {
   "cell_type": "code",
   "execution_count": 4,
   "metadata": {},
   "outputs": [
    {
     "output_type": "stream",
     "name": "stdout",
     "text": [
      "yyc\n              Year        Month          Day  Max Temp (°C)  Min Temp (°C)  \\\ncount  7671.000000  7671.000000  7671.000000    3095.000000    3095.000000   \nmean   2010.000000     6.522487    15.730935      11.029176      -0.884152   \nstd       6.056341     3.449049     8.801214      11.759673      10.072392   \nmin    2000.000000     1.000000     1.000000     -28.400000     -32.400000   \n25%    2005.000000     4.000000     8.000000       3.100000      -7.300000   \n50%    2010.000000     7.000000    16.000000      12.100000      -0.100000   \n75%    2015.000000    10.000000    23.000000      20.600000       7.650000   \nmax    2020.000000    12.000000    31.000000      36.500000      17.500000   \n\n       Mean Temp (°C)  Heat Deg Days (°C)  Cool Deg Days (°C)  \\\ncount     3095.000000         3095.000000         3095.000000   \nmean         5.083393           13.107593            0.190985   \nstd         10.721472           10.460052            0.731475   \nmin        -29.800000            0.000000            0.000000   \n25%         -1.900000            3.900000            0.000000   \n50%          6.000000           12.000000            0.000000   \n75%         14.100000           19.900000            0.000000   \nmax         26.200000           47.800000            8.200000   \n\n       Total Rain (mm)  Total Snow (cm)  Total Precip (mm)  Snow on Grnd (cm)  \\\ncount      7671.000000      7671.000000        7671.000000        7671.000000   \nmean          0.362326         0.164190           0.504041           0.773432   \nstd           2.428949         1.085385           2.604279           2.751892   \nmin           0.000000         0.000000           0.000000           0.000000   \n25%           0.000000         0.000000           0.000000           0.000000   \n50%           0.000000         0.000000           0.000000           0.000000   \n75%           0.000000         0.000000           0.000000           0.000000   \nmax          54.000000        32.800000          54.000000          31.000000   \n\n       Dir of Max Gust (10s deg)  \ncount                7671.000000  \nmean                    7.442967  \nstd                    12.529864  \nmin                     0.000000  \n25%                     0.000000  \n50%                     0.000000  \n75%                    15.000000  \nmax                    36.000000  \nyeg\n              Year        Month          Day  Max Temp (°C)  Min Temp (°C)  \\\ncount  7671.000000  7671.000000  7671.000000    7671.000000    7671.000000   \nmean   2010.000000     6.522487    15.730935       9.396513      -0.752966   \nstd       6.056341     3.449049     8.801214      12.512245      11.076186   \nmin    2000.000000     1.000000     1.000000     -30.600000     -37.600000   \n25%    2005.000000     4.000000     8.000000       0.700000      -8.200000   \n50%    2010.000000     7.000000    16.000000      10.300000       0.300000   \n75%    2015.000000    10.000000    23.000000      19.900000       8.700000   \nmax    2020.000000    12.000000    31.000000      34.500000      21.400000   \n\n       Mean Temp (°C)  Heat Deg Days (°C)  Cool Deg Days (°C)  \\\ncount     7671.000000         7671.000000         7671.000000   \nmean         4.327721           13.925753            0.253474   \nstd         11.662678           11.317508            0.933974   \nmin        -33.100000            0.000000            0.000000   \n25%         -3.800000            3.600000            0.000000   \n50%          5.400000           12.600000            0.000000   \n75%         14.400000           21.800000            0.000000   \nmax         26.700000           51.100000            8.700000   \n\n       Total Rain (mm)  Total Snow (cm)  Total Precip (mm)  Snow on Grnd (cm)  \\\ncount      7671.000000      7671.000000        7671.000000        7671.000000   \nmean          0.286651         0.119241           0.916191           4.077956   \nstd           1.833878         0.903689           3.256579           8.537282   \nmin           0.000000         0.000000           0.000000           0.000000   \n25%           0.000000         0.000000           0.000000           0.000000   \n50%           0.000000         0.000000           0.000000           0.000000   \n75%           0.000000         0.000000           0.200000           2.000000   \nmax          48.200000        22.000000          51.400000          49.000000   \n\n       Dir of Max Gust (10s deg)  \ncount                7671.000000  \nmean                    3.043671  \nstd                     8.683305  \nmin                     0.000000  \n25%                     0.000000  \n50%                     0.000000  \n75%                     0.000000  \nmax                    36.000000  \nymm\n              Year        Month          Day  Max Temp (°C)  Min Temp (°C)  \\\ncount  7671.000000  7671.000000  7671.000000    3361.000000    3361.000000   \nmean   2010.000000     6.522487    15.730935       6.906040      -4.531018   \nstd       6.056341     3.449049     8.801214      14.633075      13.366014   \nmin    2000.000000     1.000000     1.000000     -30.000000     -43.000000   \n25%    2005.000000     4.000000     8.000000      -4.400000     -14.600000   \n50%    2010.000000     7.000000    16.000000       7.500000      -2.500000   \n75%    2015.000000    10.000000    23.000000      20.000000       7.000000   \nmax    2020.000000    12.000000    31.000000      34.700000      18.800000   \n\n       Mean Temp (°C)  Heat Deg Days (°C)  Cool Deg Days (°C)  \\\ncount     3361.000000         3361.000000         3361.000000   \nmean         1.195418           17.014148            0.209566   \nstd         13.810273           13.527905            0.782726   \nmin        -35.100000            0.000000            0.000000   \n25%         -9.300000            4.500000            0.000000   \n50%          2.500000           15.500000            0.000000   \n75%         13.500000           27.300000            0.000000   \nmax         26.800000           53.100000            8.800000   \n\n       Total Precip (mm)  Dir of Max Gust (10s deg)  \ncount        7671.000000                7671.000000  \nmean            0.431600                   3.887238  \nstd             2.665518                   9.497158  \nmin             0.000000                   0.000000  \n25%             0.000000                   0.000000  \n50%             0.000000                   0.000000  \n75%             0.000000                   0.000000  \nmax            83.900000                  36.000000  \n"
     ]
    }
   ],
   "source": [
    "print('yyc')\n",
    "print(weather_yyc_df.describe())\n",
    "\n",
    "print('yeg')\n",
    "print(weather_yeg_df.describe())\n",
    "\n",
    "print('ymm')\n",
    "print(weather_ymm_df.describe())"
   ]
  },
  {
   "cell_type": "code",
   "execution_count": 5,
   "metadata": {},
   "outputs": [
    {
     "output_type": "stream",
     "name": "stdout",
     "text": [
      "yyc\n   Date/Time  Year  Month  Day  Max Temp (°C)  Min Temp (°C)  Mean Temp (°C)  \\\n0 2000-01-01  2000      1    1            NaN            NaN             NaN   \n1 2000-01-02  2000      1    2            NaN            NaN             NaN   \n2 2000-01-03  2000      1    3            NaN            NaN             NaN   \n3 2000-01-04  2000      1    4            NaN            NaN             NaN   \n4 2000-01-05  2000      1    5            NaN            NaN             NaN   \n\n   Heat Deg Days (°C)  Cool Deg Days (°C)  Total Rain (mm)  Total Snow (cm)  \\\n0                 NaN                 NaN              0.0              0.0   \n1                 NaN                 NaN              0.0              0.0   \n2                 NaN                 NaN              0.0              0.0   \n3                 NaN                 NaN              0.0              0.0   \n4                 NaN                 NaN              0.0              0.0   \n\n   Total Precip (mm)  Snow on Grnd (cm)  Dir of Max Gust (10s deg) city  \n0                0.0                0.0                        0.0  yyc  \n1                0.0                0.0                        0.0  yyc  \n2                0.0                0.0                        0.0  yyc  \n3                0.0                0.0                        0.0  yyc  \n4                0.0                0.0                        0.0  yyc  \nyeg\n   Date/Time  Year  Month  Day  Max Temp (°C)  Min Temp (°C)  Mean Temp (°C)  \\\n0 2000-01-01  2000      1    1          -10.2          -18.6           -14.4   \n1 2000-01-02  2000      1    2          -17.1          -20.7           -18.9   \n2 2000-01-03  2000      1    3          -15.5          -22.2           -18.9   \n3 2000-01-04  2000      1    4          -12.8          -18.4           -15.6   \n4 2000-01-05  2000      1    5           -5.1          -14.7            -9.9   \n\n   Heat Deg Days (°C)  Cool Deg Days (°C)  Total Rain (mm)  Total Snow (cm)  \\\n0                32.4                 0.0              0.0              2.4   \n1                36.9                 0.0              0.0              0.0   \n2                36.9                 0.0              0.0              0.0   \n3                33.6                 0.0              0.0              0.0   \n4                27.9                 0.0              0.0              1.0   \n\n   Total Precip (mm)  Snow on Grnd (cm)  Dir of Max Gust (10s deg) city  \n0                2.4                0.0                        0.0  yeg  \n1                0.0                1.0                        0.0  yeg  \n2                0.0                1.0                        0.0  yeg  \n3                0.0                1.0                        0.0  yeg  \n4                1.0                2.0                        0.0  yeg  \nymm\n   Date/Time  Year  Month  Day  Max Temp (°C)  Min Temp (°C)  Mean Temp (°C)  \\\n0 2000-01-01  2000      1    1            NaN            NaN             NaN   \n1 2000-01-02  2000      1    2            NaN            NaN             NaN   \n2 2000-01-03  2000      1    3            NaN            NaN             NaN   \n3 2000-01-04  2000      1    4            NaN            NaN             NaN   \n4 2000-01-05  2000      1    5            NaN            NaN             NaN   \n\n   Heat Deg Days (°C)  Cool Deg Days (°C)  Total Precip (mm)  \\\n0                 NaN                 NaN                0.0   \n1                 NaN                 NaN                0.0   \n2                 NaN                 NaN                0.0   \n3                 NaN                 NaN                0.0   \n4                 NaN                 NaN                0.0   \n\n   Dir of Max Gust (10s deg) city  \n0                        0.0  ymm  \n1                        0.0  ymm  \n2                        0.0  ymm  \n3                        0.0  ymm  \n4                        0.0  ymm  \n"
     ]
    }
   ],
   "source": [
    "print('yyc')\n",
    "print(weather_yyc_df.head())\n",
    "\n",
    "print('yeg')\n",
    "print(weather_yeg_df.head())\n",
    "\n",
    "print('ymm')\n",
    "print(weather_ymm_df.head())"
   ]
  },
  {
   "cell_type": "code",
   "execution_count": 8,
   "metadata": {},
   "outputs": [],
   "source": []
  },
  {
   "cell_type": "code",
   "execution_count": 19,
   "metadata": {},
   "outputs": [
    {
     "output_type": "execute_result",
     "data": {
      "text/plain": [
       "   Date/Time  Year  Month  Day  Max Temp (°C)  Min Temp (°C)  Mean Temp (°C)  \\\n",
       "0 2000-01-01  2000      1    1          -10.2          -18.6           -14.4   \n",
       "1 2000-01-02  2000      1    2          -17.1          -20.7           -18.9   \n",
       "2 2000-01-03  2000      1    3          -15.5          -22.2           -18.9   \n",
       "3 2000-01-04  2000      1    4          -12.8          -18.4           -15.6   \n",
       "4 2000-01-05  2000      1    5           -5.1          -14.7            -9.9   \n",
       "\n",
       "   Heat Deg Days (°C)  Cool Deg Days (°C)  Total Rain (mm)  Total Snow (cm)  \\\n",
       "0                32.4                 0.0              0.0              2.4   \n",
       "1                36.9                 0.0              0.0              0.0   \n",
       "2                36.9                 0.0              0.0              0.0   \n",
       "3                33.6                 0.0              0.0              0.0   \n",
       "4                27.9                 0.0              0.0              1.0   \n",
       "\n",
       "   Total Precip (mm)  Snow on Grnd (cm)  Dir of Max Gust (10s deg) city  \\\n",
       "0                2.4                0.0                        0.0  yeg   \n",
       "1                0.0                1.0                        0.0  yeg   \n",
       "2                0.0                1.0                        0.0  yeg   \n",
       "3                0.0                1.0                        0.0  yeg   \n",
       "4                1.0                2.0                        0.0  yeg   \n",
       "\n",
       "    datetime  \n",
       "0 2000-01-01  \n",
       "1 2000-01-02  \n",
       "2 2000-01-03  \n",
       "3 2000-01-04  \n",
       "4 2000-01-05  "
      ],
      "text/html": "<div>\n<style scoped>\n    .dataframe tbody tr th:only-of-type {\n        vertical-align: middle;\n    }\n\n    .dataframe tbody tr th {\n        vertical-align: top;\n    }\n\n    .dataframe thead th {\n        text-align: right;\n    }\n</style>\n<table border=\"1\" class=\"dataframe\">\n  <thead>\n    <tr style=\"text-align: right;\">\n      <th></th>\n      <th>Date/Time</th>\n      <th>Year</th>\n      <th>Month</th>\n      <th>Day</th>\n      <th>Max Temp (°C)</th>\n      <th>Min Temp (°C)</th>\n      <th>Mean Temp (°C)</th>\n      <th>Heat Deg Days (°C)</th>\n      <th>Cool Deg Days (°C)</th>\n      <th>Total Rain (mm)</th>\n      <th>Total Snow (cm)</th>\n      <th>Total Precip (mm)</th>\n      <th>Snow on Grnd (cm)</th>\n      <th>Dir of Max Gust (10s deg)</th>\n      <th>city</th>\n      <th>datetime</th>\n    </tr>\n  </thead>\n  <tbody>\n    <tr>\n      <th>0</th>\n      <td>2000-01-01</td>\n      <td>2000</td>\n      <td>1</td>\n      <td>1</td>\n      <td>-10.2</td>\n      <td>-18.6</td>\n      <td>-14.4</td>\n      <td>32.4</td>\n      <td>0.0</td>\n      <td>0.0</td>\n      <td>2.4</td>\n      <td>2.4</td>\n      <td>0.0</td>\n      <td>0.0</td>\n      <td>yeg</td>\n      <td>2000-01-01</td>\n    </tr>\n    <tr>\n      <th>1</th>\n      <td>2000-01-02</td>\n      <td>2000</td>\n      <td>1</td>\n      <td>2</td>\n      <td>-17.1</td>\n      <td>-20.7</td>\n      <td>-18.9</td>\n      <td>36.9</td>\n      <td>0.0</td>\n      <td>0.0</td>\n      <td>0.0</td>\n      <td>0.0</td>\n      <td>1.0</td>\n      <td>0.0</td>\n      <td>yeg</td>\n      <td>2000-01-02</td>\n    </tr>\n    <tr>\n      <th>2</th>\n      <td>2000-01-03</td>\n      <td>2000</td>\n      <td>1</td>\n      <td>3</td>\n      <td>-15.5</td>\n      <td>-22.2</td>\n      <td>-18.9</td>\n      <td>36.9</td>\n      <td>0.0</td>\n      <td>0.0</td>\n      <td>0.0</td>\n      <td>0.0</td>\n      <td>1.0</td>\n      <td>0.0</td>\n      <td>yeg</td>\n      <td>2000-01-03</td>\n    </tr>\n    <tr>\n      <th>3</th>\n      <td>2000-01-04</td>\n      <td>2000</td>\n      <td>1</td>\n      <td>4</td>\n      <td>-12.8</td>\n      <td>-18.4</td>\n      <td>-15.6</td>\n      <td>33.6</td>\n      <td>0.0</td>\n      <td>0.0</td>\n      <td>0.0</td>\n      <td>0.0</td>\n      <td>1.0</td>\n      <td>0.0</td>\n      <td>yeg</td>\n      <td>2000-01-04</td>\n    </tr>\n    <tr>\n      <th>4</th>\n      <td>2000-01-05</td>\n      <td>2000</td>\n      <td>1</td>\n      <td>5</td>\n      <td>-5.1</td>\n      <td>-14.7</td>\n      <td>-9.9</td>\n      <td>27.9</td>\n      <td>0.0</td>\n      <td>0.0</td>\n      <td>1.0</td>\n      <td>1.0</td>\n      <td>2.0</td>\n      <td>0.0</td>\n      <td>yeg</td>\n      <td>2000-01-05</td>\n    </tr>\n  </tbody>\n</table>\n</div>"
     },
     "metadata": {},
     "execution_count": 19
    }
   ],
   "source": [
    "weather_yeg_df.head()"
   ]
  },
  {
   "cell_type": "code",
   "execution_count": 6,
   "metadata": {},
   "outputs": [],
   "source": [
    "#join tables together\n",
    "\n",
    "#dfs = [weather_yyc_df, weather_yeg_df, weather_ymm_df]\n",
    "#weather_df = reduce(lambda left,right: pd.merge(left,right,on='Date/Time'), dfs)\n"
   ]
  },
  {
   "cell_type": "code",
   "execution_count": 7,
   "metadata": {},
   "outputs": [
    {
     "output_type": "error",
     "ename": "NameError",
     "evalue": "name 'weather_df' is not defined",
     "traceback": [
      "\u001b[1;31m---------------------------------------------------------------------------\u001b[0m",
      "\u001b[1;31mNameError\u001b[0m                                 Traceback (most recent call last)",
      "\u001b[1;32m<ipython-input-7-f6c9156aeb70>\u001b[0m in \u001b[0;36m<module>\u001b[1;34m\u001b[0m\n\u001b[1;32m----> 1\u001b[1;33m \u001b[0mprint\u001b[0m\u001b[1;33m(\u001b[0m\u001b[0mweather_df\u001b[0m\u001b[1;33m.\u001b[0m\u001b[0mcolumns\u001b[0m\u001b[1;33m)\u001b[0m\u001b[1;33m\u001b[0m\u001b[1;33m\u001b[0m\u001b[0m\n\u001b[0m\u001b[0;32m      2\u001b[0m \u001b[0mprint\u001b[0m\u001b[1;33m(\u001b[0m\u001b[0mweather_df\u001b[0m\u001b[1;33m.\u001b[0m\u001b[0mhead\u001b[0m\u001b[1;33m(\u001b[0m\u001b[1;33m)\u001b[0m\u001b[1;33m)\u001b[0m\u001b[1;33m\u001b[0m\u001b[1;33m\u001b[0m\u001b[0m\n\u001b[0;32m      3\u001b[0m \u001b[1;33m\u001b[0m\u001b[0m\n",
      "\u001b[1;31mNameError\u001b[0m: name 'weather_df' is not defined"
     ]
    }
   ],
   "source": [
    "print(weather_df.columns)\n",
    "print(weather_df.head())\n",
    "\n"
   ]
  },
  {
   "cell_type": "code",
   "execution_count": 10,
   "metadata": {},
   "outputs": [],
   "source": [
    "weather_df = pd.concat([weather_yyc_df, weather_yeg_df, weather_ymm_df]).groupby(level=0).mean()"
   ]
  },
  {
   "cell_type": "code",
   "execution_count": 11,
   "metadata": {},
   "outputs": [
    {
     "output_type": "execute_result",
     "data": {
      "text/plain": [
       "Index(['Year', 'Month', 'Day', 'Max Temp (°C)', 'Min Temp (°C)',\n",
       "       'Mean Temp (°C)', 'Heat Deg Days (°C)', 'Cool Deg Days (°C)',\n",
       "       'Total Rain (mm)', 'Total Snow (cm)', 'Total Precip (mm)',\n",
       "       'Snow on Grnd (cm)', 'Dir of Max Gust (10s deg)'],\n",
       "      dtype='object')"
      ]
     },
     "metadata": {},
     "execution_count": 11
    }
   ],
   "source": [
    "weather_df.columns"
   ]
  },
  {
   "cell_type": "code",
   "execution_count": 27,
   "metadata": {},
   "outputs": [],
   "source": [
    "weather_df['datetime'] = weather_df['Year'].astype(str) + '-' + weather_df['Month'].astype(str) + '-' + weather_df['Day'].astype(str)\n",
    "weather_df['datetime'] = pd.to_datetime(weather_df['datetime'])\n",
    "#weather_df['datetime'] = weather_df['datetime'] datetime.strptime(weather_df['datetime'], '%Y-%m-%d')"
   ]
  },
  {
   "cell_type": "code",
   "execution_count": 31,
   "metadata": {},
   "outputs": [
    {
     "output_type": "stream",
     "name": "stdout",
     "text": [
      "<class 'pandas.core.frame.DataFrame'>\nRangeIndex: 7671 entries, 0 to 7670\nData columns (total 15 columns):\n #   Column                     Non-Null Count  Dtype         \n---  ------                     --------------  -----         \n 0   Unnamed: 0                 7671 non-null   int64         \n 1   Year                       7671 non-null   int64         \n 2   Month                      7671 non-null   int64         \n 3   Day                        7671 non-null   int64         \n 4   Max Temp (°C)              7671 non-null   float64       \n 5   Min Temp (°C)              7671 non-null   float64       \n 6   Mean Temp (°C)             7671 non-null   float64       \n 7   Heat Deg Days (°C)         7671 non-null   float64       \n 8   Cool Deg Days (°C)         7671 non-null   float64       \n 9   Total Rain (mm)            7671 non-null   float64       \n 10  Total Snow (cm)            7671 non-null   float64       \n 11  Total Precip (mm)          7671 non-null   float64       \n 12  Snow on Grnd (cm)          7671 non-null   float64       \n 13  Dir of Max Gust (10s deg)  7671 non-null   float64       \n 14  datetime                   7671 non-null   datetime64[ns]\ndtypes: datetime64[ns](1), float64(10), int64(4)\nmemory usage: 899.1 KB\n"
     ]
    }
   ],
   "source": [
    "weather_df.info()"
   ]
  },
  {
   "cell_type": "code",
   "execution_count": 22,
   "metadata": {},
   "outputs": [
    {
     "output_type": "execute_result",
     "data": {
      "text/plain": [
       "   Unnamed: 0  Year  Month  Day  Max Temp (°C)  Min Temp (°C)  Mean Temp (°C)  \\\n",
       "0           0  2000      1    1          -10.2          -18.6           -14.4   \n",
       "1           1  2000      1    2          -17.1          -20.7           -18.9   \n",
       "2           2  2000      1    3          -15.5          -22.2           -18.9   \n",
       "3           3  2000      1    4          -12.8          -18.4           -15.6   \n",
       "4           4  2000      1    5           -5.1          -14.7            -9.9   \n",
       "\n",
       "   Heat Deg Days (°C)  Cool Deg Days (°C)  Total Rain (mm)  Total Snow (cm)  \\\n",
       "0                32.4                 0.0              0.0              1.2   \n",
       "1                36.9                 0.0              0.0              0.0   \n",
       "2                36.9                 0.0              0.0              0.0   \n",
       "3                33.6                 0.0              0.0              0.0   \n",
       "4                27.9                 0.0              0.0              0.5   \n",
       "\n",
       "   Total Precip (mm)  Snow on Grnd (cm)  Dir of Max Gust (10s deg)  datetime  \n",
       "0           0.800000                0.0                        0.0  2000-1-1  \n",
       "1           0.000000                0.5                        0.0  2000-1-2  \n",
       "2           0.000000                0.5                        0.0  2000-1-3  \n",
       "3           0.000000                0.5                        0.0  2000-1-4  \n",
       "4           0.333333                1.0                        0.0  2000-1-5  "
      ],
      "text/html": "<div>\n<style scoped>\n    .dataframe tbody tr th:only-of-type {\n        vertical-align: middle;\n    }\n\n    .dataframe tbody tr th {\n        vertical-align: top;\n    }\n\n    .dataframe thead th {\n        text-align: right;\n    }\n</style>\n<table border=\"1\" class=\"dataframe\">\n  <thead>\n    <tr style=\"text-align: right;\">\n      <th></th>\n      <th>Unnamed: 0</th>\n      <th>Year</th>\n      <th>Month</th>\n      <th>Day</th>\n      <th>Max Temp (°C)</th>\n      <th>Min Temp (°C)</th>\n      <th>Mean Temp (°C)</th>\n      <th>Heat Deg Days (°C)</th>\n      <th>Cool Deg Days (°C)</th>\n      <th>Total Rain (mm)</th>\n      <th>Total Snow (cm)</th>\n      <th>Total Precip (mm)</th>\n      <th>Snow on Grnd (cm)</th>\n      <th>Dir of Max Gust (10s deg)</th>\n      <th>datetime</th>\n    </tr>\n  </thead>\n  <tbody>\n    <tr>\n      <th>0</th>\n      <td>0</td>\n      <td>2000</td>\n      <td>1</td>\n      <td>1</td>\n      <td>-10.2</td>\n      <td>-18.6</td>\n      <td>-14.4</td>\n      <td>32.4</td>\n      <td>0.0</td>\n      <td>0.0</td>\n      <td>1.2</td>\n      <td>0.800000</td>\n      <td>0.0</td>\n      <td>0.0</td>\n      <td>2000-1-1</td>\n    </tr>\n    <tr>\n      <th>1</th>\n      <td>1</td>\n      <td>2000</td>\n      <td>1</td>\n      <td>2</td>\n      <td>-17.1</td>\n      <td>-20.7</td>\n      <td>-18.9</td>\n      <td>36.9</td>\n      <td>0.0</td>\n      <td>0.0</td>\n      <td>0.0</td>\n      <td>0.000000</td>\n      <td>0.5</td>\n      <td>0.0</td>\n      <td>2000-1-2</td>\n    </tr>\n    <tr>\n      <th>2</th>\n      <td>2</td>\n      <td>2000</td>\n      <td>1</td>\n      <td>3</td>\n      <td>-15.5</td>\n      <td>-22.2</td>\n      <td>-18.9</td>\n      <td>36.9</td>\n      <td>0.0</td>\n      <td>0.0</td>\n      <td>0.0</td>\n      <td>0.000000</td>\n      <td>0.5</td>\n      <td>0.0</td>\n      <td>2000-1-3</td>\n    </tr>\n    <tr>\n      <th>3</th>\n      <td>3</td>\n      <td>2000</td>\n      <td>1</td>\n      <td>4</td>\n      <td>-12.8</td>\n      <td>-18.4</td>\n      <td>-15.6</td>\n      <td>33.6</td>\n      <td>0.0</td>\n      <td>0.0</td>\n      <td>0.0</td>\n      <td>0.000000</td>\n      <td>0.5</td>\n      <td>0.0</td>\n      <td>2000-1-4</td>\n    </tr>\n    <tr>\n      <th>4</th>\n      <td>4</td>\n      <td>2000</td>\n      <td>1</td>\n      <td>5</td>\n      <td>-5.1</td>\n      <td>-14.7</td>\n      <td>-9.9</td>\n      <td>27.9</td>\n      <td>0.0</td>\n      <td>0.0</td>\n      <td>0.5</td>\n      <td>0.333333</td>\n      <td>1.0</td>\n      <td>0.0</td>\n      <td>2000-1-5</td>\n    </tr>\n  </tbody>\n</table>\n</div>"
     },
     "metadata": {},
     "execution_count": 22
    }
   ],
   "source": [
    "weather_df.head()"
   ]
  },
  {
   "cell_type": "code",
   "execution_count": null,
   "metadata": {},
   "outputs": [],
   "source": [
    "weather_df.reset_index()\n",
    "weather_df.describe"
   ]
  },
  {
   "cell_type": "code",
   "execution_count": 14,
   "metadata": {},
   "outputs": [],
   "source": [
    "# write to csv to read in\n",
    "weather_df.to_csv('weather_df.csv')"
   ]
  },
  {
   "source": [
    "Run function \"aeso_download_range\" to scrape electricity daily average pool prices for time range"
   ],
   "cell_type": "markdown",
   "metadata": {}
  },
  {
   "cell_type": "code",
   "execution_count": null,
   "metadata": {
    "tags": [
     "outputPrepend"
    ]
   },
   "outputs": [],
   "source": [
    "#electricity params\n",
    "tablename = 'DailyAveragePoolPrice'\n",
    "startdate = '2000-01-01'\n",
    "enddate = '2020-12-31'\n",
    "dateformat = '%Y-%m-%d'\n",
    "contenttype = 'html'\n",
    "#get table of downloaded data, sort by date\n",
    "util_prices = aeso_download_range(tablename, contenttype, startdate, enddate, dateformat).sort_values(by='$/MWh_Date').reset_index()"
   ]
  },
  {
   "cell_type": "code",
   "execution_count": null,
   "metadata": {},
   "outputs": [],
   "source": [
    "# write to csv to read in\n",
    "util_prices.to_csv('util_prices.csv')\n"
   ]
  },
  {
   "cell_type": "code",
   "execution_count": 15,
   "metadata": {},
   "outputs": [],
   "source": [
    "# run this to read in csvs instead of needing to re download all the data\n",
    "util_prices = pd.read_csv('util_prices.csv')\n",
    "weather_df = pd.read_csv('weather_df.csv')"
   ]
  },
  {
   "source": [
    "\n",
    "\n",
    "\n",
    "Join weather data and electricity price data together for analysis"
   ],
   "cell_type": "markdown",
   "metadata": {}
  },
  {
   "cell_type": "code",
   "execution_count": 35,
   "metadata": {},
   "outputs": [],
   "source": [
    "# convert $/MWh_Date to date time\n",
    "util_prices['$/MWh_Date'] = pd.to_datetime(util_prices['$/MWh_Date'])\n"
   ]
  },
  {
   "cell_type": "code",
   "execution_count": 36,
   "metadata": {},
   "outputs": [],
   "source": [
    "unseen_weather_df = weather_df.iloc[6515:]\n",
    "unseen_util_prices_df = util_prices.iloc[6515:]\n",
    "train_weather_df = weather_df.iloc[:6514]\n",
    "train_util_prices_df = util_prices.iloc[:6514]"
   ]
  },
  {
   "cell_type": "code",
   "execution_count": 37,
   "metadata": {},
   "outputs": [],
   "source": [
    "#join tables together\n",
    "train_df = train_util_prices_df.merge(train_weather_df, how = 'left', left_on = '$/MWh_Date', right_on = 'datetime')\n",
    "unseen_df = unseen_util_prices_df.merge(unseen_weather_df, how = 'left', left_on = '$/MWh_Date', right_on = 'datetime')"
   ]
  },
  {
   "source": [
    "Pick Daily_Average as the price to analyze (predictor label), and convert to kwh for standard consumer units Define columns used for prediction label, features and timestamp"
   ],
   "cell_type": "markdown",
   "metadata": {}
  },
  {
   "cell_type": "code",
   "execution_count": null,
   "metadata": {},
   "outputs": [],
   "source": [
    "train_df['Avg_Price_kwh'] = train_df['Daily_Average'] / 1000\n",
    "train_df = train_df.rename(columns = {'$/MWh_Date':'Date'})\n",
    "\n",
    "unseen_df['Avg_Price_kwh'] = unseen_df['Daily_Average'] / 1000\n",
    "unseen_df = unseen_df.rename(columns = {'$/MWh_Date':'Date'})"
   ]
  },
  {
   "cell_type": "code",
   "execution_count": null,
   "metadata": {},
   "outputs": [],
   "source": [
    "print(train_df.info())\n",
    "print(unseen_df.info())\n",
    "\n",
    "print(train_df.head())\n",
    "print(unseen_df.head())\n"
   ]
  },
  {
   "cell_type": "code",
   "execution_count": null,
   "metadata": {},
   "outputs": [],
   "source": [
    "\n",
    "\n",
    "train_df = train_df[['Date','Month', 'Day', 'Max Temp (°C)', 'Min Temp (°C)', 'Mean Temp (°C)',\n",
    "            'Heat Deg Days (°C)', 'Cool Deg Days (°C)', 'Total Rain (mm)',\n",
    "            'Total Snow (cm)', 'Total Precip (mm)', 'Snow on Grnd (cm)',\n",
    "            'Dir of Max Gust (10s deg)','Avg_Price_kwh']]\n",
    "unseen_df = unseen_df[['Date','Month', 'Day', 'Max Temp (°C)', 'Min Temp (°C)', 'Mean Temp (°C)',\n",
    "            'Heat Deg Days (°C)', 'Cool Deg Days (°C)', 'Total Rain (mm)',\n",
    "            'Total Snow (cm)', 'Total Precip (mm)', 'Snow on Grnd (cm)',\n",
    "            'Dir of Max Gust (10s deg)','Avg_Price_kwh']]\n"
   ]
  },
  {
   "cell_type": "code",
   "execution_count": null,
   "metadata": {},
   "outputs": [],
   "source": [
    "dataset = train_df\n",
    "#check the shape of data\n",
    "dataset.shape"
   ]
  },
  {
   "cell_type": "code",
   "execution_count": null,
   "metadata": {},
   "outputs": [],
   "source": [
    "\n",
    "data = dataset\n",
    "data_unseen = unseen_df\n",
    "\n",
    "\n",
    "print('Data for Modeling: ' + str(data.shape))\n",
    "print('Unseen Data For Predictions: ' + str(data_unseen.shape))"
   ]
  },
  {
   "cell_type": "code",
   "execution_count": null,
   "metadata": {},
   "outputs": [],
   "source": [
    "from pycaret.regression import *\n",
    "exp_reg101 = setup(data = data, target = 'Avg_Price_kwh', session_id=1)"
   ]
  },
  {
   "cell_type": "code",
   "execution_count": null,
   "metadata": {},
   "outputs": [],
   "source": [
    "best = compare_models(exclude = ['ransac'])"
   ]
  },
  {
   "cell_type": "code",
   "execution_count": null,
   "metadata": {},
   "outputs": [],
   "source": [
    "models()"
   ]
  },
  {
   "cell_type": "code",
   "execution_count": null,
   "metadata": {},
   "outputs": [],
   "source": [
    "model_selected = \"gbr\""
   ]
  },
  {
   "cell_type": "code",
   "execution_count": null,
   "metadata": {},
   "outputs": [],
   "source": [
    "gbr = create_model('gbr')\n",
    " "
   ]
  },
  {
   "cell_type": "code",
   "execution_count": null,
   "metadata": {},
   "outputs": [],
   "source": [
    "tuned_gbr = tune_model(gbr)\n"
   ]
  },
  {
   "cell_type": "code",
   "execution_count": null,
   "metadata": {},
   "outputs": [],
   "source": [
    "plot_model(tuned_gbr)"
   ]
  },
  {
   "cell_type": "code",
   "execution_count": null,
   "metadata": {},
   "outputs": [],
   "source": [
    "plot_model(tuned_gbr, plot = 'feature')"
   ]
  },
  {
   "cell_type": "code",
   "execution_count": null,
   "metadata": {},
   "outputs": [],
   "source": [
    "plot_model(tuned_gbr, plot = 'feature')\n"
   ]
  },
  {
   "cell_type": "code",
   "execution_count": null,
   "metadata": {},
   "outputs": [],
   "source": [
    "predict_model(gbr)"
   ]
  },
  {
   "cell_type": "code",
   "execution_count": null,
   "metadata": {},
   "outputs": [],
   "source": [
    "\n",
    "final_gbr = finalize_model(gbr)"
   ]
  },
  {
   "cell_type": "code",
   "execution_count": null,
   "metadata": {},
   "outputs": [],
   "source": [
    "unseen_predictions = predict_model(final_gbr, data=data_unseen)\n",
    "unseen_predictions.head()"
   ]
  },
  {
   "cell_type": "code",
   "execution_count": null,
   "metadata": {},
   "outputs": [],
   "source": [
    "%matplotlib inline\n",
    "unseen_predictions_label = unseen_predictions[['Avg_Price_kwh','Label']]\n",
    "unseen_predictions_label.plot(ylim=[0,0.15], linewidth=1, alpha=0.7)"
   ]
  },
  {
   "cell_type": "code",
   "execution_count": null,
   "metadata": {},
   "outputs": [],
   "source": [
    "unseen_predictions_label['diff'] = unseen_predictions_label['Avg_Price_kwh'] - unseen_predictions_label['Label']\n",
    "unseen_predictions_label.plot(ylim=[-0.04,0.10], linewidth=1, alpha=0.7)\n",
    "\n"
   ]
  },
  {
   "cell_type": "code",
   "execution_count": null,
   "metadata": {},
   "outputs": [],
   "source": [
    "from pycaret.utils import check_metric\n",
    "check_metric(unseen_predictions.Avg_Price_kwh, unseen_predictions.Label, 'R2')"
   ]
  },
  {
   "cell_type": "code",
   "execution_count": null,
   "metadata": {},
   "outputs": [],
   "source": [
    "save_model(final_rf,'Final gbr Model 28Mar2021')"
   ]
  },
  {
   "cell_type": "code",
   "execution_count": null,
   "metadata": {},
   "outputs": [],
   "source": []
  }
 ]
}