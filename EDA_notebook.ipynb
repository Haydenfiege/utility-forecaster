{
 "metadata": {
  "language_info": {
   "codemirror_mode": {
    "name": "ipython",
    "version": 3
   },
   "file_extension": ".py",
   "mimetype": "text/x-python",
   "name": "python",
   "nbconvert_exporter": "python",
   "pygments_lexer": "ipython3",
   "version": "3.8.8"
  },
  "orig_nbformat": 2,
  "kernelspec": {
   "name": "pythonjvsc74a57bd00bd3c137db0ad6f150572af135d32e9c7ca80234a5f4368600668cb8b6eecf93",
   "display_name": "Python 3.8.8  ('venv': venv)"
  },
  "metadata": {
   "interpreter": {
    "hash": "0bd3c137db0ad6f150572af135d32e9c7ca80234a5f4368600668cb8b6eecf93"
   }
  }
 },
 "nbformat": 4,
 "nbformat_minor": 2,
 "cells": [
  {
   "source": [
    "import packages"
   ],
   "cell_type": "markdown",
   "metadata": {}
  },
  {
   "cell_type": "code",
   "execution_count": 1,
   "metadata": {},
   "outputs": [],
   "source": [
    "import pandas as pd\n",
    "import seaborn as sn"
   ]
  },
  {
   "source": [
    "load in data"
   ],
   "cell_type": "markdown",
   "metadata": {}
  },
  {
   "cell_type": "code",
   "execution_count": 5,
   "metadata": {},
   "outputs": [],
   "source": [
    "util_prices = pd.read_csv('pycaret_forecast/util_prices.csv')\n",
    "weather_df = pd.read_csv('pycaret_forecast/weather_df.csv')\n",
    "supply_demand = pd.read_csv('24_month_supply_and_demand_forecast.csv')\n",
    "nat_gas_price = pd.read_csv('natural_gas_price_history_and_Forecast.csv')\n",
    "coal_price = pd.read_csv('coal_prices_combined.csv')\n",
    "electricity_mix = pd.read_csv('electricity_generation_primary_fuel_alberta.csv') "
   ]
  },
  {
   "source": [
    "join data into one combined data frame"
   ],
   "cell_type": "markdown",
   "metadata": {}
  },
  {
   "cell_type": "code",
   "execution_count": 7,
   "metadata": {},
   "outputs": [
    {
     "output_type": "stream",
     "name": "stdout",
     "text": [
      "<class 'pandas.core.frame.DataFrame'>\nRangeIndex: 7671 entries, 0 to 7670\nData columns (total 9 columns):\n #   Column                   Non-Null Count  Dtype  \n---  ------                   --------------  -----  \n 0   Unnamed: 0               7671 non-null   int64  \n 1   index                    7671 non-null   int64  \n 2   $/MWh_Date               7671 non-null   object \n 3   Daily_Average            7671 non-null   float64\n 4   Daily_On Peak Average    7671 non-null   float64\n 5   Daily_Off Peak Average   7671 non-null   float64\n 6   30Ravg_Average           7671 non-null   float64\n 7   30Ravg_On Peak Average   7671 non-null   float64\n 8   30Ravg_Off Peak Average  7671 non-null   float64\ndtypes: float64(6), int64(2), object(1)\nmemory usage: 539.5+ KB\n"
     ]
    }
   ],
   "source": [
    "util_prices.info()"
   ]
  },
  {
   "cell_type": "code",
   "execution_count": 8,
   "metadata": {},
   "outputs": [
    {
     "output_type": "execute_result",
     "data": {
      "text/plain": [
       "   Unnamed: 0  index  $/MWh_Date  Daily_Average  Daily_On Peak Average  \\\n",
       "0           0     30  2000-01-01          18.70                  22.60   \n",
       "1           1     29  2000-01-02          41.73                  57.75   \n",
       "2           2     28  2000-01-03          34.27                  39.45   \n",
       "3           3     27  2000-01-04          30.06                  35.94   \n",
       "4           4     26  2000-01-05          30.27                  34.82   \n",
       "\n",
       "   Daily_Off Peak Average  30Ravg_Average  30Ravg_On Peak Average  \\\n",
       "0                   10.90           39.54                   48.20   \n",
       "1                    9.68           39.75                   48.77   \n",
       "2                   23.91           39.84                   48.89   \n",
       "3                   18.29           39.77                   48.86   \n",
       "4                   21.17           39.15                   47.96   \n",
       "\n",
       "   30Ravg_Off Peak Average  \n",
       "0                    22.21  \n",
       "1                    21.71  \n",
       "2                    21.73  \n",
       "3                    21.61  \n",
       "4                    21.53  "
      ],
      "text/html": "<div>\n<style scoped>\n    .dataframe tbody tr th:only-of-type {\n        vertical-align: middle;\n    }\n\n    .dataframe tbody tr th {\n        vertical-align: top;\n    }\n\n    .dataframe thead th {\n        text-align: right;\n    }\n</style>\n<table border=\"1\" class=\"dataframe\">\n  <thead>\n    <tr style=\"text-align: right;\">\n      <th></th>\n      <th>Unnamed: 0</th>\n      <th>index</th>\n      <th>$/MWh_Date</th>\n      <th>Daily_Average</th>\n      <th>Daily_On Peak Average</th>\n      <th>Daily_Off Peak Average</th>\n      <th>30Ravg_Average</th>\n      <th>30Ravg_On Peak Average</th>\n      <th>30Ravg_Off Peak Average</th>\n    </tr>\n  </thead>\n  <tbody>\n    <tr>\n      <th>0</th>\n      <td>0</td>\n      <td>30</td>\n      <td>2000-01-01</td>\n      <td>18.70</td>\n      <td>22.60</td>\n      <td>10.90</td>\n      <td>39.54</td>\n      <td>48.20</td>\n      <td>22.21</td>\n    </tr>\n    <tr>\n      <th>1</th>\n      <td>1</td>\n      <td>29</td>\n      <td>2000-01-02</td>\n      <td>41.73</td>\n      <td>57.75</td>\n      <td>9.68</td>\n      <td>39.75</td>\n      <td>48.77</td>\n      <td>21.71</td>\n    </tr>\n    <tr>\n      <th>2</th>\n      <td>2</td>\n      <td>28</td>\n      <td>2000-01-03</td>\n      <td>34.27</td>\n      <td>39.45</td>\n      <td>23.91</td>\n      <td>39.84</td>\n      <td>48.89</td>\n      <td>21.73</td>\n    </tr>\n    <tr>\n      <th>3</th>\n      <td>3</td>\n      <td>27</td>\n      <td>2000-01-04</td>\n      <td>30.06</td>\n      <td>35.94</td>\n      <td>18.29</td>\n      <td>39.77</td>\n      <td>48.86</td>\n      <td>21.61</td>\n    </tr>\n    <tr>\n      <th>4</th>\n      <td>4</td>\n      <td>26</td>\n      <td>2000-01-05</td>\n      <td>30.27</td>\n      <td>34.82</td>\n      <td>21.17</td>\n      <td>39.15</td>\n      <td>47.96</td>\n      <td>21.53</td>\n    </tr>\n  </tbody>\n</table>\n</div>"
     },
     "metadata": {},
     "execution_count": 8
    }
   ],
   "source": [
    "util_prices.head()"
   ]
  },
  {
   "cell_type": "code",
   "execution_count": 9,
   "metadata": {},
   "outputs": [
    {
     "output_type": "stream",
     "name": "stdout",
     "text": [
      "<class 'pandas.core.frame.DataFrame'>\nRangeIndex: 7671 entries, 0 to 7670\nData columns (total 14 columns):\n #   Column                     Non-Null Count  Dtype  \n---  ------                     --------------  -----  \n 0   Unnamed: 0                 7671 non-null   int64  \n 1   Year                       7671 non-null   int64  \n 2   Month                      7671 non-null   int64  \n 3   Day                        7671 non-null   int64  \n 4   Max Temp (°C)              7671 non-null   float64\n 5   Min Temp (°C)              7671 non-null   float64\n 6   Mean Temp (°C)             7671 non-null   float64\n 7   Heat Deg Days (°C)         7671 non-null   float64\n 8   Cool Deg Days (°C)         7671 non-null   float64\n 9   Total Rain (mm)            7671 non-null   float64\n 10  Total Snow (cm)            7671 non-null   float64\n 11  Total Precip (mm)          7671 non-null   float64\n 12  Snow on Grnd (cm)          7671 non-null   float64\n 13  Dir of Max Gust (10s deg)  7671 non-null   float64\ndtypes: float64(10), int64(4)\nmemory usage: 839.1 KB\n"
     ]
    }
   ],
   "source": [
    "weather_df.info()"
   ]
  },
  {
   "cell_type": "code",
   "execution_count": 10,
   "metadata": {},
   "outputs": [
    {
     "output_type": "execute_result",
     "data": {
      "text/plain": [
       "   Unnamed: 0  Year  Month  Day  Max Temp (°C)  Min Temp (°C)  Mean Temp (°C)  \\\n",
       "0           0  2000      1    1          -10.2          -18.6           -14.4   \n",
       "1           1  2000      1    2          -17.1          -20.7           -18.9   \n",
       "2           2  2000      1    3          -15.5          -22.2           -18.9   \n",
       "3           3  2000      1    4          -12.8          -18.4           -15.6   \n",
       "4           4  2000      1    5           -5.1          -14.7            -9.9   \n",
       "\n",
       "   Heat Deg Days (°C)  Cool Deg Days (°C)  Total Rain (mm)  Total Snow (cm)  \\\n",
       "0                32.4                 0.0              0.0              1.2   \n",
       "1                36.9                 0.0              0.0              0.0   \n",
       "2                36.9                 0.0              0.0              0.0   \n",
       "3                33.6                 0.0              0.0              0.0   \n",
       "4                27.9                 0.0              0.0              0.5   \n",
       "\n",
       "   Total Precip (mm)  Snow on Grnd (cm)  Dir of Max Gust (10s deg)  \n",
       "0           0.800000                0.0                        0.0  \n",
       "1           0.000000                0.5                        0.0  \n",
       "2           0.000000                0.5                        0.0  \n",
       "3           0.000000                0.5                        0.0  \n",
       "4           0.333333                1.0                        0.0  "
      ],
      "text/html": "<div>\n<style scoped>\n    .dataframe tbody tr th:only-of-type {\n        vertical-align: middle;\n    }\n\n    .dataframe tbody tr th {\n        vertical-align: top;\n    }\n\n    .dataframe thead th {\n        text-align: right;\n    }\n</style>\n<table border=\"1\" class=\"dataframe\">\n  <thead>\n    <tr style=\"text-align: right;\">\n      <th></th>\n      <th>Unnamed: 0</th>\n      <th>Year</th>\n      <th>Month</th>\n      <th>Day</th>\n      <th>Max Temp (°C)</th>\n      <th>Min Temp (°C)</th>\n      <th>Mean Temp (°C)</th>\n      <th>Heat Deg Days (°C)</th>\n      <th>Cool Deg Days (°C)</th>\n      <th>Total Rain (mm)</th>\n      <th>Total Snow (cm)</th>\n      <th>Total Precip (mm)</th>\n      <th>Snow on Grnd (cm)</th>\n      <th>Dir of Max Gust (10s deg)</th>\n    </tr>\n  </thead>\n  <tbody>\n    <tr>\n      <th>0</th>\n      <td>0</td>\n      <td>2000</td>\n      <td>1</td>\n      <td>1</td>\n      <td>-10.2</td>\n      <td>-18.6</td>\n      <td>-14.4</td>\n      <td>32.4</td>\n      <td>0.0</td>\n      <td>0.0</td>\n      <td>1.2</td>\n      <td>0.800000</td>\n      <td>0.0</td>\n      <td>0.0</td>\n    </tr>\n    <tr>\n      <th>1</th>\n      <td>1</td>\n      <td>2000</td>\n      <td>1</td>\n      <td>2</td>\n      <td>-17.1</td>\n      <td>-20.7</td>\n      <td>-18.9</td>\n      <td>36.9</td>\n      <td>0.0</td>\n      <td>0.0</td>\n      <td>0.0</td>\n      <td>0.000000</td>\n      <td>0.5</td>\n      <td>0.0</td>\n    </tr>\n    <tr>\n      <th>2</th>\n      <td>2</td>\n      <td>2000</td>\n      <td>1</td>\n      <td>3</td>\n      <td>-15.5</td>\n      <td>-22.2</td>\n      <td>-18.9</td>\n      <td>36.9</td>\n      <td>0.0</td>\n      <td>0.0</td>\n      <td>0.0</td>\n      <td>0.000000</td>\n      <td>0.5</td>\n      <td>0.0</td>\n    </tr>\n    <tr>\n      <th>3</th>\n      <td>3</td>\n      <td>2000</td>\n      <td>1</td>\n      <td>4</td>\n      <td>-12.8</td>\n      <td>-18.4</td>\n      <td>-15.6</td>\n      <td>33.6</td>\n      <td>0.0</td>\n      <td>0.0</td>\n      <td>0.0</td>\n      <td>0.000000</td>\n      <td>0.5</td>\n      <td>0.0</td>\n    </tr>\n    <tr>\n      <th>4</th>\n      <td>4</td>\n      <td>2000</td>\n      <td>1</td>\n      <td>5</td>\n      <td>-5.1</td>\n      <td>-14.7</td>\n      <td>-9.9</td>\n      <td>27.9</td>\n      <td>0.0</td>\n      <td>0.0</td>\n      <td>0.5</td>\n      <td>0.333333</td>\n      <td>1.0</td>\n      <td>0.0</td>\n    </tr>\n  </tbody>\n</table>\n</div>"
     },
     "metadata": {},
     "execution_count": 10
    }
   ],
   "source": [
    "weather_df.head()"
   ]
  },
  {
   "cell_type": "code",
   "execution_count": 11,
   "metadata": {},
   "outputs": [
    {
     "output_type": "stream",
     "name": "stdout",
     "text": [
      "<class 'pandas.core.frame.DataFrame'>\nRangeIndex: 713 entries, 0 to 712\nData columns (total 6 columns):\n #   Column                                    Non-Null Count  Dtype \n---  ------                                    --------------  ----- \n 0   Report Date                               713 non-null    object\n 1   HE (Peak)                                 713 non-null    int64 \n 2   Total Expected Internal Supply (MW)       713 non-null    int64 \n 3   Import Capacity from BC,SK and MATL (MW)  713 non-null    int64 \n 4   AIL Load + Operating Reserves (MW)        713 non-null    int64 \n 5   Surplus (MW)                              713 non-null    int64 \ndtypes: int64(5), object(1)\nmemory usage: 33.5+ KB\n"
     ]
    }
   ],
   "source": [
    "supply_demand.info()"
   ]
  },
  {
   "cell_type": "code",
   "execution_count": 12,
   "metadata": {},
   "outputs": [
    {
     "output_type": "execute_result",
     "data": {
      "text/plain": [
       "  Report Date  HE (Peak)  Total Expected Internal Supply (MW)  \\\n",
       "0  2021-05-17         17                                11750   \n",
       "1  2021-05-18         17                                12289   \n",
       "2  2021-05-19         17                                12593   \n",
       "3  2021-05-20         12                                12464   \n",
       "4  2021-05-21         12                                12464   \n",
       "\n",
       "   Import Capacity from BC,SK and MATL (MW)  \\\n",
       "0                                      1053   \n",
       "1                                      1053   \n",
       "2                                      1053   \n",
       "3                                      1053   \n",
       "4                                      1053   \n",
       "\n",
       "   AIL Load + Operating Reserves (MW)  Surplus (MW)  \n",
       "0                               10679          2124  \n",
       "1                               10357          2985  \n",
       "2                               10270          3376  \n",
       "3                               10317          3200  \n",
       "4                               10323          3194  "
      ],
      "text/html": "<div>\n<style scoped>\n    .dataframe tbody tr th:only-of-type {\n        vertical-align: middle;\n    }\n\n    .dataframe tbody tr th {\n        vertical-align: top;\n    }\n\n    .dataframe thead th {\n        text-align: right;\n    }\n</style>\n<table border=\"1\" class=\"dataframe\">\n  <thead>\n    <tr style=\"text-align: right;\">\n      <th></th>\n      <th>Report Date</th>\n      <th>HE (Peak)</th>\n      <th>Total Expected Internal Supply (MW)</th>\n      <th>Import Capacity from BC,SK and MATL (MW)</th>\n      <th>AIL Load + Operating Reserves (MW)</th>\n      <th>Surplus (MW)</th>\n    </tr>\n  </thead>\n  <tbody>\n    <tr>\n      <th>0</th>\n      <td>2021-05-17</td>\n      <td>17</td>\n      <td>11750</td>\n      <td>1053</td>\n      <td>10679</td>\n      <td>2124</td>\n    </tr>\n    <tr>\n      <th>1</th>\n      <td>2021-05-18</td>\n      <td>17</td>\n      <td>12289</td>\n      <td>1053</td>\n      <td>10357</td>\n      <td>2985</td>\n    </tr>\n    <tr>\n      <th>2</th>\n      <td>2021-05-19</td>\n      <td>17</td>\n      <td>12593</td>\n      <td>1053</td>\n      <td>10270</td>\n      <td>3376</td>\n    </tr>\n    <tr>\n      <th>3</th>\n      <td>2021-05-20</td>\n      <td>12</td>\n      <td>12464</td>\n      <td>1053</td>\n      <td>10317</td>\n      <td>3200</td>\n    </tr>\n    <tr>\n      <th>4</th>\n      <td>2021-05-21</td>\n      <td>12</td>\n      <td>12464</td>\n      <td>1053</td>\n      <td>10323</td>\n      <td>3194</td>\n    </tr>\n  </tbody>\n</table>\n</div>"
     },
     "metadata": {},
     "execution_count": 12
    }
   ],
   "source": [
    "supply_demand.head()"
   ]
  },
  {
   "cell_type": "code",
   "execution_count": 13,
   "metadata": {},
   "outputs": [
    {
     "output_type": "stream",
     "name": "stdout",
     "text": [
      "<class 'pandas.core.frame.DataFrame'>\nRangeIndex: 239 entries, 0 to 238\nData columns (total 16 columns):\n #   Column                                 Non-Null Count  Dtype  \n---  ------                                 --------------  -----  \n 0   Date                                   239 non-null    object \n 1   History_CADUSD                         124 non-null    float64\n 2   Forward_Curve_CADUSD                   59 non-null     float64\n 3   Forecast_CADUSD                        117 non-null    float64\n 4   History_Henry_Hub_USD_per_MMBtu        124 non-null    float64\n 5   Forward Curve_Henry_Hub_USD_per_MMBtu  115 non-null    float64\n 6   Forecast_Henry_Hub_USD_per_MMBtu       117 non-null    float64\n 7   History_AECO_USD_per_MMBtu             124 non-null    float64\n 8   Forward_Curve_AECO_USD_per_MMBtu       58 non-null     float64\n 9   Forecast_AECO_USD_per_MMBtu            117 non-null    float64\n 10  History_Station 2_USD_per_MMBtu        124 non-null    float64\n 11  Forward_Curve_Station 2_USD_per_MMBtu  58 non-null     float64\n 12  Forecast_Station 2_USD_per_MMBtu       117 non-null    float64\n 13  History_NBP_USD_per_MMBtu              123 non-null    float64\n 14  Forward_Curve_NBP_USD_per_MMBtu        43 non-null     float64\n 15  Forecast_NBP_USD_per_MMBtu             117 non-null    float64\ndtypes: float64(15), object(1)\nmemory usage: 30.0+ KB\n"
     ]
    }
   ],
   "source": [
    "nat_gas_price.info()"
   ]
  },
  {
   "cell_type": "code",
   "execution_count": 14,
   "metadata": {},
   "outputs": [
    {
     "output_type": "execute_result",
     "data": {
      "text/plain": [
       "     Date  History_CADUSD  Forward_Curve_CADUSD  Forecast_CADUSD  \\\n",
       "0  Feb-11          1.0126                   NaN              NaN   \n",
       "1  Mar-11          1.0240                   NaN              NaN   \n",
       "2  Apr-11          1.0436                   NaN              NaN   \n",
       "3  May-11          1.0332                   NaN              NaN   \n",
       "4  Jun-11          1.0238                   NaN              NaN   \n",
       "\n",
       "   History_Henry_Hub_USD_per_MMBtu  Forward Curve_Henry_Hub_USD_per_MMBtu  \\\n",
       "0                             4.01                                    NaN   \n",
       "1                             4.07                                    NaN   \n",
       "2                             4.27                                    NaN   \n",
       "3                             4.32                                    NaN   \n",
       "4                             4.53                                    NaN   \n",
       "\n",
       "   Forecast_Henry_Hub_USD_per_MMBtu  History_AECO_USD_per_MMBtu  \\\n",
       "0                               NaN                        3.59   \n",
       "1                               NaN                        3.71   \n",
       "2                               NaN                        3.84   \n",
       "3                               NaN                        3.97   \n",
       "4                               NaN                        4.12   \n",
       "\n",
       "   Forward_Curve_AECO_USD_per_MMBtu  Forecast_AECO_USD_per_MMBtu  \\\n",
       "0                               NaN                          NaN   \n",
       "1                               NaN                          NaN   \n",
       "2                               NaN                          NaN   \n",
       "3                               NaN                          NaN   \n",
       "4                               NaN                          NaN   \n",
       "\n",
       "   History_Station 2_USD_per_MMBtu  Forward_Curve_Station 2_USD_per_MMBtu  \\\n",
       "0                             3.28                                    NaN   \n",
       "1                             3.39                                    NaN   \n",
       "2                             3.45                                    NaN   \n",
       "3                             3.76                                    NaN   \n",
       "4                             3.82                                    NaN   \n",
       "\n",
       "   Forecast_Station 2_USD_per_MMBtu  History_NBP_USD_per_MMBtu  \\\n",
       "0                               NaN                       8.64   \n",
       "1                               NaN                       9.78   \n",
       "2                               NaN                       9.72   \n",
       "3                               NaN                       9.36   \n",
       "4                               NaN                       9.35   \n",
       "\n",
       "   Forward_Curve_NBP_USD_per_MMBtu  Forecast_NBP_USD_per_MMBtu  \n",
       "0                              NaN                         NaN  \n",
       "1                              NaN                         NaN  \n",
       "2                              NaN                         NaN  \n",
       "3                              NaN                         NaN  \n",
       "4                              NaN                         NaN  "
      ],
      "text/html": "<div>\n<style scoped>\n    .dataframe tbody tr th:only-of-type {\n        vertical-align: middle;\n    }\n\n    .dataframe tbody tr th {\n        vertical-align: top;\n    }\n\n    .dataframe thead th {\n        text-align: right;\n    }\n</style>\n<table border=\"1\" class=\"dataframe\">\n  <thead>\n    <tr style=\"text-align: right;\">\n      <th></th>\n      <th>Date</th>\n      <th>History_CADUSD</th>\n      <th>Forward_Curve_CADUSD</th>\n      <th>Forecast_CADUSD</th>\n      <th>History_Henry_Hub_USD_per_MMBtu</th>\n      <th>Forward Curve_Henry_Hub_USD_per_MMBtu</th>\n      <th>Forecast_Henry_Hub_USD_per_MMBtu</th>\n      <th>History_AECO_USD_per_MMBtu</th>\n      <th>Forward_Curve_AECO_USD_per_MMBtu</th>\n      <th>Forecast_AECO_USD_per_MMBtu</th>\n      <th>History_Station 2_USD_per_MMBtu</th>\n      <th>Forward_Curve_Station 2_USD_per_MMBtu</th>\n      <th>Forecast_Station 2_USD_per_MMBtu</th>\n      <th>History_NBP_USD_per_MMBtu</th>\n      <th>Forward_Curve_NBP_USD_per_MMBtu</th>\n      <th>Forecast_NBP_USD_per_MMBtu</th>\n    </tr>\n  </thead>\n  <tbody>\n    <tr>\n      <th>0</th>\n      <td>Feb-11</td>\n      <td>1.0126</td>\n      <td>NaN</td>\n      <td>NaN</td>\n      <td>4.01</td>\n      <td>NaN</td>\n      <td>NaN</td>\n      <td>3.59</td>\n      <td>NaN</td>\n      <td>NaN</td>\n      <td>3.28</td>\n      <td>NaN</td>\n      <td>NaN</td>\n      <td>8.64</td>\n      <td>NaN</td>\n      <td>NaN</td>\n    </tr>\n    <tr>\n      <th>1</th>\n      <td>Mar-11</td>\n      <td>1.0240</td>\n      <td>NaN</td>\n      <td>NaN</td>\n      <td>4.07</td>\n      <td>NaN</td>\n      <td>NaN</td>\n      <td>3.71</td>\n      <td>NaN</td>\n      <td>NaN</td>\n      <td>3.39</td>\n      <td>NaN</td>\n      <td>NaN</td>\n      <td>9.78</td>\n      <td>NaN</td>\n      <td>NaN</td>\n    </tr>\n    <tr>\n      <th>2</th>\n      <td>Apr-11</td>\n      <td>1.0436</td>\n      <td>NaN</td>\n      <td>NaN</td>\n      <td>4.27</td>\n      <td>NaN</td>\n      <td>NaN</td>\n      <td>3.84</td>\n      <td>NaN</td>\n      <td>NaN</td>\n      <td>3.45</td>\n      <td>NaN</td>\n      <td>NaN</td>\n      <td>9.72</td>\n      <td>NaN</td>\n      <td>NaN</td>\n    </tr>\n    <tr>\n      <th>3</th>\n      <td>May-11</td>\n      <td>1.0332</td>\n      <td>NaN</td>\n      <td>NaN</td>\n      <td>4.32</td>\n      <td>NaN</td>\n      <td>NaN</td>\n      <td>3.97</td>\n      <td>NaN</td>\n      <td>NaN</td>\n      <td>3.76</td>\n      <td>NaN</td>\n      <td>NaN</td>\n      <td>9.36</td>\n      <td>NaN</td>\n      <td>NaN</td>\n    </tr>\n    <tr>\n      <th>4</th>\n      <td>Jun-11</td>\n      <td>1.0238</td>\n      <td>NaN</td>\n      <td>NaN</td>\n      <td>4.53</td>\n      <td>NaN</td>\n      <td>NaN</td>\n      <td>4.12</td>\n      <td>NaN</td>\n      <td>NaN</td>\n      <td>3.82</td>\n      <td>NaN</td>\n      <td>NaN</td>\n      <td>9.35</td>\n      <td>NaN</td>\n      <td>NaN</td>\n    </tr>\n  </tbody>\n</table>\n</div>"
     },
     "metadata": {},
     "execution_count": 14
    }
   ],
   "source": [
    "nat_gas_price.head()"
   ]
  },
  {
   "cell_type": "code",
   "execution_count": 15,
   "metadata": {},
   "outputs": [
    {
     "output_type": "stream",
     "name": "stdout",
     "text": [
      "<class 'pandas.core.frame.DataFrame'>\nRangeIndex: 42 entries, 0 to 41\nData columns (total 2 columns):\n #   Column      Non-Null Count  Dtype  \n---  ------      --------------  -----  \n 0   Year        42 non-null     int64  \n 1   Coal Price  42 non-null     float64\ndtypes: float64(1), int64(1)\nmemory usage: 800.0 bytes\n"
     ]
    }
   ],
   "source": [
    "coal_price.info()"
   ]
  },
  {
   "cell_type": "code",
   "execution_count": 16,
   "metadata": {},
   "outputs": [
    {
     "output_type": "execute_result",
     "data": {
      "text/plain": [
       "   Year  Coal Price\n",
       "0  2009       43.33\n",
       "1  2010       44.27\n",
       "2  2011       46.24\n",
       "3  2012       45.77\n",
       "4  2013       45.03"
      ],
      "text/html": "<div>\n<style scoped>\n    .dataframe tbody tr th:only-of-type {\n        vertical-align: middle;\n    }\n\n    .dataframe tbody tr th {\n        vertical-align: top;\n    }\n\n    .dataframe thead th {\n        text-align: right;\n    }\n</style>\n<table border=\"1\" class=\"dataframe\">\n  <thead>\n    <tr style=\"text-align: right;\">\n      <th></th>\n      <th>Year</th>\n      <th>Coal Price</th>\n    </tr>\n  </thead>\n  <tbody>\n    <tr>\n      <th>0</th>\n      <td>2009</td>\n      <td>43.33</td>\n    </tr>\n    <tr>\n      <th>1</th>\n      <td>2010</td>\n      <td>44.27</td>\n    </tr>\n    <tr>\n      <th>2</th>\n      <td>2011</td>\n      <td>46.24</td>\n    </tr>\n    <tr>\n      <th>3</th>\n      <td>2012</td>\n      <td>45.77</td>\n    </tr>\n    <tr>\n      <th>4</th>\n      <td>2013</td>\n      <td>45.03</td>\n    </tr>\n  </tbody>\n</table>\n</div>"
     },
     "metadata": {},
     "execution_count": 16
    }
   ],
   "source": [
    "coal_price.head()"
   ]
  },
  {
   "cell_type": "code",
   "execution_count": 17,
   "metadata": {},
   "outputs": [
    {
     "output_type": "stream",
     "name": "stdout",
     "text": [
      "<class 'pandas.core.frame.DataFrame'>\nRangeIndex: 46 entries, 0 to 45\nData columns (total 12 columns):\n #   Column              Non-Null Count  Dtype  \n---  ------              --------------  -----  \n 0   province            46 non-null     object \n 1   source              46 non-null     object \n 2   desc                46 non-null     object \n 3   year                46 non-null     int64  \n 4   Hydro               46 non-null     float64\n 5   Wind                46 non-null     float64\n 6   Biomass_Geothermal  46 non-null     float64\n 7   Solar               46 non-null     float64\n 8   Uranium             46 non-null     int64  \n 9   Coal                46 non-null     float64\n 10  natural_gas         46 non-null     float64\n 11  oil                 46 non-null     float64\ndtypes: float64(7), int64(2), object(3)\nmemory usage: 4.4+ KB\n"
     ]
    }
   ],
   "source": [
    "electricity_mix.info()"
   ]
  },
  {
   "cell_type": "code",
   "execution_count": 18,
   "metadata": {},
   "outputs": [
    {
     "output_type": "execute_result",
     "data": {
      "text/plain": [
       "  province                                             source  \\\n",
       "0  Alberta  https://apps.cer-rec.gc.ca/ftrppndc/dflt.aspx?...   \n",
       "1  Alberta  https://apps.cer-rec.gc.ca/ftrppndc/dflt.aspx?...   \n",
       "2  Alberta  https://apps.cer-rec.gc.ca/ftrppndc/dflt.aspx?...   \n",
       "3  Alberta  https://apps.cer-rec.gc.ca/ftrppndc/dflt.aspx?...   \n",
       "4  Alberta  https://apps.cer-rec.gc.ca/ftrppndc/dflt.aspx?...   \n",
       "\n",
       "                                          desc  year   Hydro    Wind  \\\n",
       "0  Electricity Generation - Primary Fuel (GWh)  2005  2316.0   741.0   \n",
       "1  Electricity Generation - Primary Fuel (GWh)  2006  1966.0   921.0   \n",
       "2  Electricity Generation - Primary Fuel (GWh)  2007  2113.0  1430.0   \n",
       "3  Electricity Generation - Primary Fuel (GWh)  2008  2150.0  1473.0   \n",
       "4  Electricity Generation - Primary Fuel (GWh)  2009  1695.0  1558.0   \n",
       "\n",
       "   Biomass_Geothermal  Solar  Uranium      Coal  natural_gas     oil  \n",
       "0             1725.17    0.0        0  43581.07     19568.76  509.44  \n",
       "1             1855.17    0.0        0  44117.04     22063.15  860.08  \n",
       "2             1870.36    0.0        0  43868.23     22337.97  922.06  \n",
       "3             1917.39    0.0        0  42131.10     23347.10  635.87  \n",
       "4             1861.50    0.0        0  40805.00     26233.32   14.15  "
      ],
      "text/html": "<div>\n<style scoped>\n    .dataframe tbody tr th:only-of-type {\n        vertical-align: middle;\n    }\n\n    .dataframe tbody tr th {\n        vertical-align: top;\n    }\n\n    .dataframe thead th {\n        text-align: right;\n    }\n</style>\n<table border=\"1\" class=\"dataframe\">\n  <thead>\n    <tr style=\"text-align: right;\">\n      <th></th>\n      <th>province</th>\n      <th>source</th>\n      <th>desc</th>\n      <th>year</th>\n      <th>Hydro</th>\n      <th>Wind</th>\n      <th>Biomass_Geothermal</th>\n      <th>Solar</th>\n      <th>Uranium</th>\n      <th>Coal</th>\n      <th>natural_gas</th>\n      <th>oil</th>\n    </tr>\n  </thead>\n  <tbody>\n    <tr>\n      <th>0</th>\n      <td>Alberta</td>\n      <td>https://apps.cer-rec.gc.ca/ftrppndc/dflt.aspx?...</td>\n      <td>Electricity Generation - Primary Fuel (GWh)</td>\n      <td>2005</td>\n      <td>2316.0</td>\n      <td>741.0</td>\n      <td>1725.17</td>\n      <td>0.0</td>\n      <td>0</td>\n      <td>43581.07</td>\n      <td>19568.76</td>\n      <td>509.44</td>\n    </tr>\n    <tr>\n      <th>1</th>\n      <td>Alberta</td>\n      <td>https://apps.cer-rec.gc.ca/ftrppndc/dflt.aspx?...</td>\n      <td>Electricity Generation - Primary Fuel (GWh)</td>\n      <td>2006</td>\n      <td>1966.0</td>\n      <td>921.0</td>\n      <td>1855.17</td>\n      <td>0.0</td>\n      <td>0</td>\n      <td>44117.04</td>\n      <td>22063.15</td>\n      <td>860.08</td>\n    </tr>\n    <tr>\n      <th>2</th>\n      <td>Alberta</td>\n      <td>https://apps.cer-rec.gc.ca/ftrppndc/dflt.aspx?...</td>\n      <td>Electricity Generation - Primary Fuel (GWh)</td>\n      <td>2007</td>\n      <td>2113.0</td>\n      <td>1430.0</td>\n      <td>1870.36</td>\n      <td>0.0</td>\n      <td>0</td>\n      <td>43868.23</td>\n      <td>22337.97</td>\n      <td>922.06</td>\n    </tr>\n    <tr>\n      <th>3</th>\n      <td>Alberta</td>\n      <td>https://apps.cer-rec.gc.ca/ftrppndc/dflt.aspx?...</td>\n      <td>Electricity Generation - Primary Fuel (GWh)</td>\n      <td>2008</td>\n      <td>2150.0</td>\n      <td>1473.0</td>\n      <td>1917.39</td>\n      <td>0.0</td>\n      <td>0</td>\n      <td>42131.10</td>\n      <td>23347.10</td>\n      <td>635.87</td>\n    </tr>\n    <tr>\n      <th>4</th>\n      <td>Alberta</td>\n      <td>https://apps.cer-rec.gc.ca/ftrppndc/dflt.aspx?...</td>\n      <td>Electricity Generation - Primary Fuel (GWh)</td>\n      <td>2009</td>\n      <td>1695.0</td>\n      <td>1558.0</td>\n      <td>1861.50</td>\n      <td>0.0</td>\n      <td>0</td>\n      <td>40805.00</td>\n      <td>26233.32</td>\n      <td>14.15</td>\n    </tr>\n  </tbody>\n</table>\n</div>"
     },
     "metadata": {},
     "execution_count": 18
    }
   ],
   "source": [
    "electricity_mix.head()"
   ]
  },
  {
   "cell_type": "code",
   "execution_count": null,
   "metadata": {},
   "outputs": [],
   "source": [
    "df = util_prices\n",
    "df['']"
   ]
  }
 ]
}