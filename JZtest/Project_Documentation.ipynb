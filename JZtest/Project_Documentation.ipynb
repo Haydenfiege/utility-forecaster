{
 "cells": [
  {
   "cell_type": "markdown",
   "id": "23bba74d",
   "metadata": {},
   "source": [
    "# Forecasting Electricity Prices in Alberta"
   ]
  },
  {
   "cell_type": "markdown",
   "id": "a946bd65",
   "metadata": {},
   "source": [
    "*Team members: Hayden Fiege, Jimmy Zhang*\n",
    "\n",
    "*Team mentor: Akshay Gulati*"
   ]
  },
  {
   "cell_type": "markdown",
   "id": "14f07519",
   "metadata": {},
   "source": [
    "This project is conducted as part of the 2021 SPE Mentorship Program..."
   ]
  },
  {
   "cell_type": "markdown",
   "id": "a597b13a",
   "metadata": {},
   "source": [
    "### Objective: Predict variable electricity prices up to ten years into the future, providing a UI for the user to compare against current fixed price quotes from major utility vendors \n",
    "### Timeline: Mar 1 2021 to Jun 1 2021"
   ]
  },
  {
   "cell_type": "markdown",
   "id": "446fff36",
   "metadata": {},
   "source": [
    "## Introduction"
   ]
  },
  {
   "cell_type": "markdown",
   "id": "5ec93d75",
   "metadata": {},
   "source": [
    "- introduce philosophy behind project...\n",
    "- describe the tech stack:\n",
    "    - Python \n",
    "    - Data Binding via GCP (Google)\n",
    "    - Streamlit front end"
   ]
  },
  {
   "cell_type": "markdown",
   "id": "92538d90",
   "metadata": {},
   "source": [
    "## Data Sources"
   ]
  },
  {
   "cell_type": "markdown",
   "id": "4e920a8c",
   "metadata": {},
   "source": [
    "Describe our input data sources\n",
    "- AESO (Electricity Prices, Supply and Demand)\n",
    "- Gov of Canada (Weather)\n",
    "- Gov of Canada (Energy Mix)\n",
    "- UCA Helps (Consumer Price Quotes)\n",
    "- GLJ Petroleum (Natural Gas Prices)"
   ]
  },
  {
   "cell_type": "markdown",
   "id": "8dac23d8",
   "metadata": {},
   "source": [
    "## Data Preparation"
   ]
  },
  {
   "cell_type": "markdown",
   "id": "89da3373",
   "metadata": {},
   "source": [
    "Describe Model setup\n",
    "- Features\n",
    "- Label (Electricity Price)\n",
    "- Data Preparation/Cleaning\n",
    "- train/test split methodology\n",
    "- show first 5 rows of final dataframe"
   ]
  },
  {
   "cell_type": "markdown",
   "id": "5bfedc3b",
   "metadata": {},
   "source": [
    "## Initial Exploratory Data Analysis"
   ]
  },
  {
   "cell_type": "markdown",
   "id": "20a7ccf0",
   "metadata": {},
   "source": [
    "- Cross plot of Label vs Features, supplement with correlation matrix\n",
    "- Plot of Label vs Time Series\n",
    "- Histogram of Label to show distribution, maybe a CDF plot?\n",
    "- Describe methods to handle outliers (if applicable)"
   ]
  },
  {
   "cell_type": "markdown",
   "id": "3f291b36",
   "metadata": {},
   "source": [
    "## Model Comparison"
   ]
  },
  {
   "cell_type": "markdown",
   "id": "fa2042ff",
   "metadata": {},
   "source": [
    "- Comparison of model performance metrics\n",
    "- select top model\n",
    "- plot residuals\n",
    "- plot feature importance"
   ]
  },
  {
   "cell_type": "markdown",
   "id": "5f5fbcb5",
   "metadata": {},
   "source": [
    "## User Interface (Streamlit)"
   ]
  },
  {
   "cell_type": "markdown",
   "id": "14f4ac08",
   "metadata": {},
   "source": [
    "- Served with backend Googlesheet as data storage\n",
    "- Auto scrape most recent AESO data if applicable\n",
    "- Pre-batched predictions for keeping the app light weight\n",
    "- User interaction functionalities (ie calculate potential profit/loss from locking in quoted price over period)"
   ]
  },
  {
   "cell_type": "markdown",
   "id": "665e7162",
   "metadata": {},
   "source": [
    "## Summary and Conclusions"
   ]
  },
  {
   "cell_type": "markdown",
   "id": "3b94601b",
   "metadata": {},
   "source": [
    "What we learned through this project..."
   ]
  },
  {
   "cell_type": "code",
   "execution_count": null,
   "id": "d287bd29",
   "metadata": {},
   "outputs": [],
   "source": []
  }
 ],
 "metadata": {
  "kernelspec": {
   "display_name": "Python 3",
   "language": "python",
   "name": "python3"
  },
  "language_info": {
   "codemirror_mode": {
    "name": "ipython",
    "version": 3
   },
   "file_extension": ".py",
   "mimetype": "text/x-python",
   "name": "python",
   "nbconvert_exporter": "python",
   "pygments_lexer": "ipython3",
   "version": "3.8.5"
  }
 },
 "nbformat": 4,
 "nbformat_minor": 5
}
